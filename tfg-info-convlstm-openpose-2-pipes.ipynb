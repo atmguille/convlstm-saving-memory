{
 "cells": [
  {
   "cell_type": "markdown",
   "id": "dc712dd1",
   "metadata": {
    "_cell_guid": "b1076dfc-b9ad-4769-8c92-a6c4dae69d19",
    "_uuid": "8f2839f25d086af736a60e9eeb907d3b93b6e0e5",
    "papermill": {
     "duration": 0.02576,
     "end_time": "2022-04-13T16:53:19.891008",
     "exception": false,
     "start_time": "2022-04-13T16:53:19.865248",
     "status": "completed"
    },
    "tags": []
   },
   "source": [
    "Baseline using ConvLSTM + OpenPose"
   ]
  },
  {
   "cell_type": "code",
   "execution_count": 1,
   "id": "464de0f1",
   "metadata": {
    "execution": {
     "iopub.execute_input": "2022-04-13T16:53:19.937334Z",
     "iopub.status.busy": "2022-04-13T16:53:19.936549Z",
     "iopub.status.idle": "2022-04-13T16:53:19.940682Z",
     "shell.execute_reply": "2022-04-13T16:53:19.940152Z",
     "shell.execute_reply.started": "2022-04-13T16:50:23.653419Z"
    },
    "papermill": {
     "duration": 0.027114,
     "end_time": "2022-04-13T16:53:19.940845",
     "exception": false,
     "start_time": "2022-04-13T16:53:19.913731",
     "status": "completed"
    },
    "tags": []
   },
   "outputs": [],
   "source": [
    "# Use output of OpenPose with or without background\n",
    "BACKGROUND = False\n",
    "# Paths to videos for training\n",
    "PATHS = [\"../input/tfginfo-rwf2000/RWF-2000\", f\"../input/tfginfo-openpose-output/openpose_output/openpose_{'' if BACKGROUND else 'no_'}back\"]"
   ]
  },
  {
   "cell_type": "code",
   "execution_count": 2,
   "id": "0a56c49f",
   "metadata": {
    "execution": {
     "iopub.execute_input": "2022-04-13T16:53:19.970294Z",
     "iopub.status.busy": "2022-04-13T16:53:19.969700Z",
     "iopub.status.idle": "2022-04-13T16:53:24.253358Z",
     "shell.execute_reply": "2022-04-13T16:53:24.252403Z",
     "shell.execute_reply.started": "2022-04-13T16:50:23.694657Z"
    },
    "papermill": {
     "duration": 4.30011,
     "end_time": "2022-04-13T16:53:24.253505",
     "exception": false,
     "start_time": "2022-04-13T16:53:19.953395",
     "status": "completed"
    },
    "tags": []
   },
   "outputs": [],
   "source": [
    "import tensorflow as tf"
   ]
  },
  {
   "cell_type": "markdown",
   "id": "c23429f7",
   "metadata": {
    "papermill": {
     "duration": 0.012372,
     "end_time": "2022-04-13T16:53:24.279551",
     "exception": false,
     "start_time": "2022-04-13T16:53:24.267179",
     "status": "completed"
    },
    "tags": []
   },
   "source": [
    "Set seed"
   ]
  },
  {
   "cell_type": "code",
   "execution_count": 3,
   "id": "c0d362b8",
   "metadata": {
    "execution": {
     "iopub.execute_input": "2022-04-13T16:53:24.310399Z",
     "iopub.status.busy": "2022-04-13T16:53:24.309497Z",
     "iopub.status.idle": "2022-04-13T16:53:24.311353Z",
     "shell.execute_reply": "2022-04-13T16:53:24.311779Z",
     "shell.execute_reply.started": "2022-04-13T16:50:29.025312Z"
    },
    "papermill": {
     "duration": 0.019821,
     "end_time": "2022-04-13T16:53:24.311933",
     "exception": false,
     "start_time": "2022-04-13T16:53:24.292112",
     "status": "completed"
    },
    "tags": []
   },
   "outputs": [],
   "source": [
    "SEED = 0\n",
    "import random\n",
    "import numpy as np\n",
    "random.seed(SEED)\n",
    "np.random.seed(SEED)\n",
    "tf.random.set_seed(SEED)"
   ]
  },
  {
   "cell_type": "markdown",
   "id": "7ed71e6c",
   "metadata": {
    "papermill": {
     "duration": 0.013393,
     "end_time": "2022-04-13T16:53:24.338484",
     "exception": false,
     "start_time": "2022-04-13T16:53:24.325091",
     "status": "completed"
    },
    "tags": []
   },
   "source": [
    "# Load data"
   ]
  },
  {
   "cell_type": "code",
   "execution_count": 4,
   "id": "3ff9528e",
   "metadata": {
    "execution": {
     "iopub.execute_input": "2022-04-13T16:53:24.367535Z",
     "iopub.status.busy": "2022-04-13T16:53:24.366893Z",
     "iopub.status.idle": "2022-04-13T16:53:24.775897Z",
     "shell.execute_reply": "2022-04-13T16:53:24.776488Z",
     "shell.execute_reply.started": "2022-04-13T16:50:29.034217Z"
    },
    "papermill": {
     "duration": 0.425815,
     "end_time": "2022-04-13T16:53:24.776661",
     "exception": false,
     "start_time": "2022-04-13T16:53:24.350846",
     "status": "completed"
    },
    "tags": []
   },
   "outputs": [],
   "source": [
    "import numpy as np\n",
    "import cv2"
   ]
  },
  {
   "cell_type": "code",
   "execution_count": 5,
   "id": "47c827c5",
   "metadata": {
    "execution": {
     "iopub.execute_input": "2022-04-13T16:53:24.811617Z",
     "iopub.status.busy": "2022-04-13T16:53:24.811041Z",
     "iopub.status.idle": "2022-04-13T16:53:24.813710Z",
     "shell.execute_reply": "2022-04-13T16:53:24.813317Z",
     "shell.execute_reply.started": "2022-04-13T16:50:29.568815Z"
    },
    "papermill": {
     "duration": 0.024579,
     "end_time": "2022-04-13T16:53:24.813855",
     "exception": false,
     "start_time": "2022-04-13T16:53:24.789276",
     "status": "completed"
    },
    "tags": []
   },
   "outputs": [],
   "source": [
    "ORIGINAL_FRAMES_PER_VIDEO = 150\n",
    "FRAMES_PER_VIDEO = 50\n",
    "VIDEO_WIDTH, VIDEO_HEIGHT = 100, 100\n",
    "N_CHANNELS = 3\n",
    "NORM_WIDTH, NORM_HEIGHT = 5, 5\n",
    "\n",
    "\n",
    "def load_videos(video_IDs: list, video_frames: int = FRAMES_PER_VIDEO, video_width: int = VIDEO_WIDTH, video_height: int = VIDEO_HEIGHT,\n",
    "                video_channels: int = N_CHANNELS, dtype = np.float32, normalize: bool = False) -> tuple:\n",
    "    # If frame diff will be computed, load an extra frame for the last one\n",
    "    #if for_diff:\n",
    "    #    video_frames = min(video_frames+1, ORIGINAL_FRAMES_PER_VIDEO)\n",
    "    \n",
    "    videos = np.empty((len(video_IDs), video_frames, video_height, video_width, video_channels), dtype=dtype)\n",
    "    \n",
    "    # Indexes of frames to be kept to comply with video_frames\n",
    "    frames_idx = set(np.round(np.linspace(0, ORIGINAL_FRAMES_PER_VIDEO - 1, video_frames)).astype(int))\n",
    "\n",
    "    for i, video_ID in enumerate(video_IDs):\n",
    "        cap = cv2.VideoCapture(video_ID)\n",
    "        frames = []\n",
    "        index = 0\n",
    "        while True:\n",
    "            ret, frame = cap.read()\n",
    "            if not ret:\n",
    "                break\n",
    "            if index in frames_idx:\n",
    "                frame = cv2.GaussianBlur(frame, (NORM_WIDTH, NORM_HEIGHT), 0)\n",
    "                frame = cv2.resize(frame, (video_width, video_height)).astype(dtype)\n",
    "                if normalize:\n",
    "                    frame /= 255.0\n",
    "                frames.append(frame)\n",
    "            index += 1\n",
    "        cap.release()\n",
    "\n",
    "        videos[i,] = np.array(frames)\n",
    "\n",
    "    return videos"
   ]
  },
  {
   "cell_type": "markdown",
   "id": "d88de0a3",
   "metadata": {
    "papermill": {
     "duration": 0.012156,
     "end_time": "2022-04-13T16:53:24.838591",
     "exception": false,
     "start_time": "2022-04-13T16:53:24.826435",
     "status": "completed"
    },
    "tags": []
   },
   "source": [
    "DataGenerator class to load videos per batch, in case all videos do not fit in memory"
   ]
  },
  {
   "cell_type": "code",
   "execution_count": 6,
   "id": "1c8efcd5",
   "metadata": {
    "execution": {
     "iopub.execute_input": "2022-04-13T16:53:24.875443Z",
     "iopub.status.busy": "2022-04-13T16:53:24.874699Z",
     "iopub.status.idle": "2022-04-13T16:53:25.732268Z",
     "shell.execute_reply": "2022-04-13T16:53:25.731415Z",
     "shell.execute_reply.started": "2022-04-13T16:50:29.585347Z"
    },
    "papermill": {
     "duration": 0.881324,
     "end_time": "2022-04-13T16:53:25.732396",
     "exception": false,
     "start_time": "2022-04-13T16:53:24.851072",
     "status": "completed"
    },
    "tags": []
   },
   "outputs": [],
   "source": [
    "import gc\n",
    "from tensorflow.keras import backend as K\n",
    "\n",
    "class DataGenerator(tf.keras.utils.Sequence):\n",
    "    def __init__(self, video_IDs: list, video_labels: dict, batch_size: int, paths: list = [''], video_width: int = VIDEO_WIDTH, video_height: int = VIDEO_HEIGHT,\n",
    "                video_frames: int = FRAMES_PER_VIDEO, video_channels: int = N_CHANNELS, dtype = np.float32, normalize: bool = False, shuffle: bool = True):\n",
    "        self.video_IDs = video_IDs\n",
    "        self.video_labels = video_labels\n",
    "        self.batch_size = batch_size\n",
    "        self.paths = paths\n",
    "        self.video_width = video_width\n",
    "        self.video_height = video_height\n",
    "        self.video_frames = video_frames\n",
    "        self.video_channels = video_channels\n",
    "        self.dtype = dtype\n",
    "        self.normalize = normalize\n",
    "        self.shuffle = shuffle\n",
    "\n",
    "    def __len__(self):\n",
    "        return len(self.video_IDs) // self.batch_size\n",
    "\n",
    "    def __getitem__(self, idx):\n",
    "        batch_IDs = self.video_IDs[idx*self.batch_size:(idx+1)*self.batch_size]\n",
    "        input_videos = []\n",
    "        \n",
    "        for index, path in enumerate(self.paths):\n",
    "            batch_IDs_full_path = [path+ID for ID in batch_IDs]\n",
    "\n",
    "            videos = load_videos(batch_IDs_full_path, self.video_frames, self.video_width, \n",
    "                                         self.video_height, self.video_channels, self.dtype, self.normalize)\n",
    "            \n",
    "            input_videos.append(videos)\n",
    "        \n",
    "        labels = np.array([self.video_labels[ID] for ID in batch_IDs])\n",
    "                    \n",
    "        return input_videos, labels\n",
    "            \n",
    "    \n",
    "    def on_epoch_end(self):\n",
    "        'Updates indexes after each epoch'\n",
    "        if self.shuffle:\n",
    "            np.random.shuffle(self.video_IDs)\n",
    "        # Clear memory after epochs\n",
    "        gc.collect()\n",
    "        #K.clear_session()"
   ]
  },
  {
   "cell_type": "markdown",
   "id": "390ec06e",
   "metadata": {
    "papermill": {
     "duration": 0.01267,
     "end_time": "2022-04-13T16:53:25.757938",
     "exception": false,
     "start_time": "2022-04-13T16:53:25.745268",
     "status": "completed"
    },
    "tags": []
   },
   "source": [
    "## Videos to load"
   ]
  },
  {
   "cell_type": "code",
   "execution_count": 7,
   "id": "0d0a43b4",
   "metadata": {
    "execution": {
     "iopub.execute_input": "2022-04-13T16:53:25.788498Z",
     "iopub.status.busy": "2022-04-13T16:53:25.787624Z",
     "iopub.status.idle": "2022-04-13T16:53:25.789595Z",
     "shell.execute_reply": "2022-04-13T16:53:25.790003Z",
     "shell.execute_reply.started": "2022-04-13T16:50:30.643133Z"
    },
    "papermill": {
     "duration": 0.019679,
     "end_time": "2022-04-13T16:53:25.790144",
     "exception": false,
     "start_time": "2022-04-13T16:53:25.770465",
     "status": "completed"
    },
    "tags": []
   },
   "outputs": [],
   "source": [
    "def get_slug_from_path(path):\n",
    "    \"\"\"\n",
    "    Function to get slug from path\n",
    "    slug must contain /train or /val because there are repeated names\n",
    "    \"\"\"\n",
    "    # Try train index first\n",
    "    index = path.rfind('/train/')\n",
    "    if index == -1:\n",
    "        index = path.rfind('/val/')\n",
    "    return path[index:]"
   ]
  },
  {
   "cell_type": "code",
   "execution_count": 8,
   "id": "ae34cd79",
   "metadata": {
    "execution": {
     "iopub.execute_input": "2022-04-13T16:53:25.821482Z",
     "iopub.status.busy": "2022-04-13T16:53:25.820923Z",
     "iopub.status.idle": "2022-04-13T16:53:26.677629Z",
     "shell.execute_reply": "2022-04-13T16:53:26.678126Z",
     "shell.execute_reply.started": "2022-04-13T16:50:30.657102Z"
    },
    "papermill": {
     "duration": 0.875716,
     "end_time": "2022-04-13T16:53:26.678281",
     "exception": false,
     "start_time": "2022-04-13T16:53:25.802565",
     "status": "completed"
    },
    "tags": []
   },
   "outputs": [],
   "source": [
    "import glob\n",
    "\n",
    "train_video_IDs = [get_slug_from_path(path) for path in glob.glob(PATHS[0]+'/train/*/*')]\n",
    "test_video_IDs = [get_slug_from_path(path) for path in glob.glob(PATHS[0]+'/val/*/*')]\n",
    "\n",
    "train_video_labels = {video: 0 if 'NonFight' in video else 1 for video in train_video_IDs}\n",
    "test_video_labels = {video: 0 if 'NonFight' in video else 1 for video in test_video_IDs}\n",
    "\n",
    "\n",
    "train_generator = DataGenerator(train_video_IDs, train_video_labels, batch_size=10, paths=PATHS)\n",
    "test_generator = DataGenerator(test_video_IDs, test_video_labels, batch_size=10, paths=PATHS)"
   ]
  },
  {
   "cell_type": "markdown",
   "id": "6d69cf5a",
   "metadata": {
    "papermill": {
     "duration": 0.012281,
     "end_time": "2022-04-13T16:53:26.703165",
     "exception": false,
     "start_time": "2022-04-13T16:53:26.690884",
     "status": "completed"
    },
    "tags": []
   },
   "source": [
    "## Filter initializer"
   ]
  },
  {
   "cell_type": "code",
   "execution_count": 9,
   "id": "5905a672",
   "metadata": {
    "execution": {
     "iopub.execute_input": "2022-04-13T16:53:26.734111Z",
     "iopub.status.busy": "2022-04-13T16:53:26.733371Z",
     "iopub.status.idle": "2022-04-13T16:53:26.735319Z",
     "shell.execute_reply": "2022-04-13T16:53:26.735727Z",
     "shell.execute_reply.started": "2022-04-13T16:50:31.581762Z"
    },
    "papermill": {
     "duration": 0.02038,
     "end_time": "2022-04-13T16:53:26.735860",
     "exception": false,
     "start_time": "2022-04-13T16:53:26.715480",
     "status": "completed"
    },
    "tags": []
   },
   "outputs": [],
   "source": [
    "def gauss_kernel(shape, dtype=None):\n",
    "    channels = shape[-2]\n",
    "    kernel_size = shape[0]\n",
    "    ax = tf.range(-kernel_size // 2 + 1.0, kernel_size // 2 + 1.0)\n",
    "    xx, yy = tf.meshgrid(ax, ax)\n",
    "    kernel = tf.exp(-(xx ** 2 + yy ** 2) / (2.0))\n",
    "    kernel = kernel / tf.reduce_sum(kernel)\n",
    "    kernel = tf.tile(kernel[..., tf.newaxis], [1, 1, channels])\n",
    "    kernel = tf.expand_dims(kernel, axis=-1)\n",
    "    return kernel"
   ]
  },
  {
   "cell_type": "markdown",
   "id": "68b67f0f",
   "metadata": {
    "papermill": {
     "duration": 0.01207,
     "end_time": "2022-04-13T16:53:26.760370",
     "exception": false,
     "start_time": "2022-04-13T16:53:26.748300",
     "status": "completed"
    },
    "tags": []
   },
   "source": [
    "# Simple ConvLSTM"
   ]
  },
  {
   "cell_type": "code",
   "execution_count": 10,
   "id": "e7e354c3",
   "metadata": {
    "execution": {
     "iopub.execute_input": "2022-04-13T16:53:26.796996Z",
     "iopub.status.busy": "2022-04-13T16:53:26.796437Z",
     "iopub.status.idle": "2022-04-13T16:53:29.506517Z",
     "shell.execute_reply": "2022-04-13T16:53:29.507490Z",
     "shell.execute_reply.started": "2022-04-13T16:50:31.594466Z"
    },
    "papermill": {
     "duration": 2.73498,
     "end_time": "2022-04-13T16:53:29.507693",
     "exception": false,
     "start_time": "2022-04-13T16:53:26.772713",
     "status": "completed"
    },
    "tags": []
   },
   "outputs": [
    {
     "name": "stderr",
     "output_type": "stream",
     "text": [
      "2022-04-13 16:53:26.892229: I tensorflow/stream_executor/cuda/cuda_gpu_executor.cc:937] successful NUMA node read from SysFS had negative value (-1), but there must be at least one NUMA node, so returning NUMA node zero\n",
      "2022-04-13 16:53:26.991210: I tensorflow/stream_executor/cuda/cuda_gpu_executor.cc:937] successful NUMA node read from SysFS had negative value (-1), but there must be at least one NUMA node, so returning NUMA node zero\n",
      "2022-04-13 16:53:26.992026: I tensorflow/stream_executor/cuda/cuda_gpu_executor.cc:937] successful NUMA node read from SysFS had negative value (-1), but there must be at least one NUMA node, so returning NUMA node zero\n",
      "2022-04-13 16:53:26.993215: I tensorflow/core/platform/cpu_feature_guard.cc:142] This TensorFlow binary is optimized with oneAPI Deep Neural Network Library (oneDNN) to use the following CPU instructions in performance-critical operations:  AVX2 AVX512F FMA\n",
      "To enable them in other operations, rebuild TensorFlow with the appropriate compiler flags.\n",
      "2022-04-13 16:53:26.994457: I tensorflow/stream_executor/cuda/cuda_gpu_executor.cc:937] successful NUMA node read from SysFS had negative value (-1), but there must be at least one NUMA node, so returning NUMA node zero\n",
      "2022-04-13 16:53:26.995189: I tensorflow/stream_executor/cuda/cuda_gpu_executor.cc:937] successful NUMA node read from SysFS had negative value (-1), but there must be at least one NUMA node, so returning NUMA node zero\n",
      "2022-04-13 16:53:26.995849: I tensorflow/stream_executor/cuda/cuda_gpu_executor.cc:937] successful NUMA node read from SysFS had negative value (-1), but there must be at least one NUMA node, so returning NUMA node zero\n",
      "2022-04-13 16:53:28.853104: I tensorflow/stream_executor/cuda/cuda_gpu_executor.cc:937] successful NUMA node read from SysFS had negative value (-1), but there must be at least one NUMA node, so returning NUMA node zero\n",
      "2022-04-13 16:53:28.853987: I tensorflow/stream_executor/cuda/cuda_gpu_executor.cc:937] successful NUMA node read from SysFS had negative value (-1), but there must be at least one NUMA node, so returning NUMA node zero\n",
      "2022-04-13 16:53:28.854628: I tensorflow/stream_executor/cuda/cuda_gpu_executor.cc:937] successful NUMA node read from SysFS had negative value (-1), but there must be at least one NUMA node, so returning NUMA node zero\n",
      "2022-04-13 16:53:28.855222: I tensorflow/core/common_runtime/gpu/gpu_device.cc:1510] Created device /job:localhost/replica:0/task:0/device:GPU:0 with 15403 MB memory:  -> device: 0, name: Tesla P100-PCIE-16GB, pci bus id: 0000:00:04.0, compute capability: 6.0\n"
     ]
    },
    {
     "name": "stdout",
     "output_type": "stream",
     "text": [
      "Model: \"model\"\n",
      "__________________________________________________________________________________________________\n",
      "Layer (type)                    Output Shape         Param #     Connected to                     \n",
      "==================================================================================================\n",
      "input_1 (InputLayer)            [(None, 50, 100, 100 0                                            \n",
      "__________________________________________________________________________________________________\n",
      "input_2 (InputLayer)            [(None, 50, 100, 100 0                                            \n",
      "__________________________________________________________________________________________________\n",
      "time_distributed_2 (TimeDistrib (None, 50, 98, 98, 9 252         input_1[0][0]                    \n",
      "__________________________________________________________________________________________________\n",
      "time_distributed (TimeDistribut (None, 50, 98, 98, 9 252         input_2[0][0]                    \n",
      "__________________________________________________________________________________________________\n",
      "batch_normalization (BatchNorma (None, 50, 98, 98, 9 36          time_distributed_2[0][0]         \n",
      "__________________________________________________________________________________________________\n",
      "time_distributed_1 (TimeDistrib (None, 50, 96, 96, 9 738         time_distributed[0][0]           \n",
      "__________________________________________________________________________________________________\n",
      "conv_lst_m2d (ConvLSTM2D)       (None, 50, 96, 96, 9 5868        batch_normalization[0][0]        \n",
      "__________________________________________________________________________________________________\n",
      "multiply (Multiply)             (None, 50, 96, 96, 9 0           time_distributed_1[0][0]         \n",
      "                                                                 conv_lst_m2d[0][0]               \n",
      "__________________________________________________________________________________________________\n",
      "batch_normalization_1 (BatchNor (None, 50, 96, 96, 9 36          multiply[0][0]                   \n",
      "__________________________________________________________________________________________________\n",
      "conv_lst_m2d_1 (ConvLSTM2D)     (None, 94, 94, 32)   47360       batch_normalization_1[0][0]      \n",
      "__________________________________________________________________________________________________\n",
      "global_average_pooling2d (Globa (None, 32)           0           conv_lst_m2d_1[0][0]             \n",
      "__________________________________________________________________________________________________\n",
      "dense (Dense)                   (None, 128)          4224        global_average_pooling2d[0][0]   \n",
      "__________________________________________________________________________________________________\n",
      "dense_1 (Dense)                 (None, 16)           2064        dense[0][0]                      \n",
      "__________________________________________________________________________________________________\n",
      "dense_2 (Dense)                 (None, 1)            17          dense_1[0][0]                    \n",
      "==================================================================================================\n",
      "Total params: 60,847\n",
      "Trainable params: 60,811\n",
      "Non-trainable params: 36\n",
      "__________________________________________________________________________________________________\n"
     ]
    }
   ],
   "source": [
    "inputs_raw = tf.keras.layers.Input(shape=(FRAMES_PER_VIDEO, VIDEO_HEIGHT, VIDEO_WIDTH, N_CHANNELS))\n",
    "inputs_openpose = tf.keras.layers.Input(shape=(FRAMES_PER_VIDEO, VIDEO_HEIGHT, VIDEO_WIDTH, N_CHANNELS))\n",
    "\n",
    "\n",
    "#inputs_openpose_norm = tf.keras.layers.BatchNormalization()(inputs_openpose)\n",
    "\n",
    "convolutional_layer_openpose_1 = tf.keras.layers.Conv2D(filters=9, kernel_size=(3,3), activation='relu')\n",
    "#convolutional_layer = tf.keras.layers.Conv2D(filters=1, kernel_size=(5,5), padding='same', kernel_initializer=gauss_kernel)\n",
    "#convolutional_layer.trainable = False\n",
    "\n",
    "inputs_openpose_soft_1 = tf.keras.layers.TimeDistributed(convolutional_layer_openpose_1)(inputs_openpose)\n",
    "convolutional_layer_openpose_2 = tf.keras.layers.Conv2D(filters=9, kernel_size=(3,3), activation='relu')\n",
    "inputs_openpose_soft = tf.keras.layers.TimeDistributed(convolutional_layer_openpose_2)(inputs_openpose_soft_1)\n",
    "#inputs_diff_next_norm_gauss = tf.keras.layers.TimeDistributed(convolutional_layer)(inputs_diff_next_norm)\n",
    "#x_openpose_time_info = tf.keras.layers.ConvLSTM2D(filters=6, kernel_size=(3, 3), return_sequences=True, data_format='channels_last', activation='relu')(inputs_openpose)\n",
    "convolutional_layer_raw = tf.keras.layers.Conv2D(filters=9, kernel_size=(3,3), activation='relu')\n",
    "inputs_raw_soft = tf.keras.layers.TimeDistributed(convolutional_layer_raw)(inputs_raw)\n",
    "inputs_raw_norm = tf.keras.layers.BatchNormalization()(inputs_raw_soft)\n",
    "x_raw_time_info = tf.keras.layers.ConvLSTM2D(filters=9, kernel_size=(3, 3), return_sequences=True, data_format='channels_last', activation='sigmoid')(inputs_raw_norm)\n",
    "#x_raw_time_info_activated = tf.keras.activations.sigmoid(x_raw_time_info)\n",
    "x_combined = tf.keras.layers.Multiply()([inputs_openpose_soft, x_raw_time_info])\n",
    "x_combined_norm = tf.keras.layers.BatchNormalization()(x_combined)\n",
    "# TODO: try more with more memory!!!\n",
    "x_inputs = tf.keras.layers.ConvLSTM2D(filters=32, kernel_size=(3, 3), return_sequences=False, data_format='channels_last', activation='tanh')(x_combined_norm)\n",
    "#x_diff_map = tf.keras.layers.ConvLSTM2D(filters=10, kernel_size=(3, 3), return_sequences=False, data_format='channels_last', activation='tanh')(inputs_diff_map_normalized)\n",
    "\n",
    "x = tf.keras.layers.GlobalAveragePooling2D(data_format='channels_last')(x_inputs)\n",
    "#x_diff_map_pool = tf.keras.layers.GlobalAveragePooling2D(data_format='channels_last')(x_diff_map)\n",
    "#x = tf.keras.layers.Concatenate()([x_inputs_pool, x_diff_map_pool])\n",
    "\n",
    "#x = tf.keras.layers.ConvLSTM2D(filters=32, kernel_size=(3, 3), return_sequences=False, data_format='channels_last', activation='tanh')(x_combined)\n",
    "\n",
    "#x = tf.keras.layers.GlobalAveragePooling2D(data_format='channels_last')(x)\n",
    "\n",
    "#x = tf.keras.layers.AveragePooling2D(4)(x)\n",
    "#x = tf.keras.layers.Flatten()(x)\n",
    "#x = tf.keras.layers.BatchNormalization()(x)\n",
    "#x = tf.keras.layers.Dense(units=1024, activation='relu')(x)\n",
    "#x = tf.keras.layers.ReLU()(x)  # Avoid possible memory leak\n",
    "x = tf.keras.layers.Dense(units=128, activation='relu')(x)\n",
    "#x = tf.keras.layers.ReLU()(x)\n",
    "x = tf.keras.layers.Dense(units=16, activation='relu')(x)\n",
    "#x = tf.keras.layers.ReLU()(x)\n",
    "outputs = tf.keras.layers.Dense(units=1, activation='sigmoid')(x)\n",
    "\n",
    "model = tf.keras.Model([inputs_raw, inputs_openpose], outputs)\n",
    "model.compile(optimizer='adam',loss='binary_crossentropy', metrics=['accuracy'])\n",
    "\n",
    "model.summary()"
   ]
  },
  {
   "cell_type": "code",
   "execution_count": 11,
   "id": "3915d95a",
   "metadata": {
    "execution": {
     "iopub.execute_input": "2022-04-13T16:53:29.542957Z",
     "iopub.status.busy": "2022-04-13T16:53:29.542141Z",
     "iopub.status.idle": "2022-04-13T20:32:31.407233Z",
     "shell.execute_reply": "2022-04-13T20:32:31.407729Z"
    },
    "papermill": {
     "duration": 13141.886509,
     "end_time": "2022-04-13T20:32:31.408820",
     "exception": false,
     "start_time": "2022-04-13T16:53:29.522311",
     "status": "completed"
    },
    "tags": []
   },
   "outputs": [
    {
     "name": "stderr",
     "output_type": "stream",
     "text": [
      "2022-04-13 16:53:35.254049: I tensorflow/compiler/mlir/mlir_graph_optimization_pass.cc:185] None of the MLIR Optimization Passes are enabled (registered 2)\n"
     ]
    },
    {
     "name": "stdout",
     "output_type": "stream",
     "text": [
      "Epoch 1/10\n"
     ]
    },
    {
     "name": "stderr",
     "output_type": "stream",
     "text": [
      "2022-04-13 16:53:47.697208: I tensorflow/stream_executor/cuda/cuda_dnn.cc:369] Loaded cuDNN version 8005\n"
     ]
    },
    {
     "name": "stdout",
     "output_type": "stream",
     "text": [
      "160/160 [==============================] - 1327s 8s/step - loss: 0.6970 - accuracy: 0.4719 - val_loss: 0.6833 - val_accuracy: 0.6975\n",
      "Epoch 2/10\n",
      "160/160 [==============================] - 1296s 8s/step - loss: 0.6013 - accuracy: 0.6762 - val_loss: 0.5206 - val_accuracy: 0.7375\n",
      "Epoch 3/10\n",
      "160/160 [==============================] - 1302s 8s/step - loss: 0.5046 - accuracy: 0.7550 - val_loss: 0.4498 - val_accuracy: 0.7950\n",
      "Epoch 4/10\n",
      "160/160 [==============================] - 1300s 8s/step - loss: 0.4746 - accuracy: 0.7806 - val_loss: 0.4774 - val_accuracy: 0.7900\n",
      "Epoch 5/10\n",
      "160/160 [==============================] - 1297s 8s/step - loss: 0.4572 - accuracy: 0.7950 - val_loss: 0.4118 - val_accuracy: 0.8175\n",
      "Epoch 6/10\n",
      "160/160 [==============================] - 1296s 8s/step - loss: 0.4292 - accuracy: 0.8125 - val_loss: 0.3891 - val_accuracy: 0.8350\n",
      "Epoch 7/10\n",
      "160/160 [==============================] - 1306s 8s/step - loss: 0.4095 - accuracy: 0.8269 - val_loss: 0.3646 - val_accuracy: 0.8350\n",
      "Epoch 8/10\n",
      "160/160 [==============================] - 1273s 8s/step - loss: 0.4082 - accuracy: 0.8250 - val_loss: 0.4212 - val_accuracy: 0.8225\n",
      "Epoch 9/10\n",
      "160/160 [==============================] - 1267s 8s/step - loss: 0.3937 - accuracy: 0.8256 - val_loss: 0.5190 - val_accuracy: 0.7775\n",
      "Epoch 10/10\n",
      "160/160 [==============================] - 1274s 8s/step - loss: 0.3880 - accuracy: 0.8394 - val_loss: 0.3812 - val_accuracy: 0.8450\n"
     ]
    }
   ],
   "source": [
    "history = model.fit(train_generator, epochs=10, validation_data=test_generator, verbose=1)"
   ]
  },
  {
   "cell_type": "markdown",
   "id": "b18b674d",
   "metadata": {
    "papermill": {
     "duration": 0.417955,
     "end_time": "2022-04-13T20:32:32.271875",
     "exception": false,
     "start_time": "2022-04-13T20:32:31.853920",
     "status": "completed"
    },
    "tags": []
   },
   "source": [
    "# Model performance"
   ]
  },
  {
   "cell_type": "code",
   "execution_count": 12,
   "id": "e353f17a",
   "metadata": {
    "execution": {
     "iopub.execute_input": "2022-04-13T20:32:33.125430Z",
     "iopub.status.busy": "2022-04-13T20:32:33.123101Z",
     "iopub.status.idle": "2022-04-13T20:32:33.565682Z",
     "shell.execute_reply": "2022-04-13T20:32:33.566081Z"
    },
    "papermill": {
     "duration": 0.874152,
     "end_time": "2022-04-13T20:32:33.566229",
     "exception": false,
     "start_time": "2022-04-13T20:32:32.692077",
     "status": "completed"
    },
    "tags": []
   },
   "outputs": [
    {
     "data": {
      "image/png": "[encoded data removed]",
      "text/plain": [
       "<Figure size 432x288 with 1 Axes>"
      ]
     },
     "metadata": {
      "needs_background": "light"
     },
     "output_type": "display_data"
    },
    {
     "data": {
      "image/png": "[encoded data removed]",
      "text/plain": [
       "<Figure size 432x288 with 1 Axes>"
      ]
     },
     "metadata": {
      "needs_background": "light"
     },
     "output_type": "display_data"
    }
   ],
   "source": [
    "import matplotlib.pyplot as plt\n",
    "# summarize history for accuracy\n",
    "plt.plot(history.history['accuracy'])\n",
    "plt.plot(history.history['val_accuracy'])\n",
    "plt.title(f\"openpose_{'' if BACKGROUND else 'no_'}back + raw model accuracy\")\n",
    "plt.ylabel('accuracy')\n",
    "plt.xlabel('epoch')\n",
    "plt.legend(['train', 'test'], loc='upper left')\n",
    "plt.show()\n",
    "# summarize history for loss\n",
    "plt.plot(history.history['loss'])\n",
    "plt.plot(history.history['val_loss'])\n",
    "plt.title(f\"openpose_{'' if BACKGROUND else 'no_'}back + raw model loss\")\n",
    "plt.ylabel('loss')\n",
    "plt.xlabel('epoch')\n",
    "plt.legend(['train', 'test'], loc='upper left')\n",
    "plt.show()"
   ]
  },
  {
   "cell_type": "code",
   "execution_count": null,
   "id": "f6ef992a",
   "metadata": {
    "papermill": {
     "duration": 0.435964,
     "end_time": "2022-04-13T20:32:34.426427",
     "exception": false,
     "start_time": "2022-04-13T20:32:33.990463",
     "status": "completed"
    },
    "tags": []
   },
   "outputs": [],
   "source": []
  }
 ],
 "metadata": {
  "kernelspec": {
   "display_name": "Python 3",
   "language": "python",
   "name": "python3"
  },
  "language_info": {
   "codemirror_mode": {
    "name": "ipython",
    "version": 3
   },
   "file_extension": ".py",
   "mimetype": "text/x-python",
   "name": "python",
   "nbconvert_exporter": "python",
   "pygments_lexer": "ipython3",
   "version": "3.7.12"
  },
  "papermill": {
   "default_parameters": {},
   "duration": 13166.726189,
   "end_time": "2022-04-13T20:32:38.401974",
   "environment_variables": {},
   "exception": null,
   "input_path": "__notebook__.ipynb",
   "output_path": "__notebook__.ipynb",
   "parameters": {},
   "start_time": "2022-04-13T16:53:11.675785",
   "version": "2.3.3"
  }
 },
 "nbformat": 4,
 "nbformat_minor": 5
}
