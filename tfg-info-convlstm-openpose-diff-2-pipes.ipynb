{
 "cells": [
  {
   "cell_type": "markdown",
   "id": "67057ec9",
   "metadata": {
    "_cell_guid": "b1076dfc-b9ad-4769-8c92-a6c4dae69d19",
    "_uuid": "8f2839f25d086af736a60e9eeb907d3b93b6e0e5",
    "papermill": {
     "duration": 0.016352,
     "end_time": "2022-04-13T17:03:06.094456",
     "exception": false,
     "start_time": "2022-04-13T17:03:06.078104",
     "status": "completed"
    },
    "tags": []
   },
   "source": [
    "Baseline using ConvLSTM + OpenPose"
   ]
  },
  {
   "cell_type": "code",
   "execution_count": 1,
   "id": "25700681",
   "metadata": {
    "execution": {
     "iopub.execute_input": "2022-04-13T17:03:06.132565Z",
     "iopub.status.busy": "2022-04-13T17:03:06.130889Z",
     "iopub.status.idle": "2022-04-13T17:03:06.142823Z",
     "shell.execute_reply": "2022-04-13T17:03:06.142274Z",
     "shell.execute_reply.started": "2022-04-13T17:01:38.156369Z"
    },
    "papermill": {
     "duration": 0.03115,
     "end_time": "2022-04-13T17:03:06.142961",
     "exception": false,
     "start_time": "2022-04-13T17:03:06.111811",
     "status": "completed"
    },
    "tags": []
   },
   "outputs": [],
   "source": [
    "# Use output of OpenPose with or without background\n",
    "BACKGROUND = False\n",
    "# frame_diff for diff across channels, frame_dist for merging differences in 1 channel\n",
    "FRAME_FUNC = 'frame_diff_dist_combined'\n",
    "# To use frame diff to weight t (current) or t+1\n",
    "WEIGHT_CURRENT = True\n",
    "# Paths to videos for training\n",
    "PATHS = [\"../input/tfginfo-rwf2000/RWF-2000\", f\"../input/tfginfo-openpose-output/openpose_output/openpose_{'' if BACKGROUND else 'no_'}back\"]"
   ]
  },
  {
   "cell_type": "code",
   "execution_count": 2,
   "id": "c0c3746c",
   "metadata": {
    "execution": {
     "iopub.execute_input": "2022-04-13T17:03:06.176901Z",
     "iopub.status.busy": "2022-04-13T17:03:06.176319Z",
     "iopub.status.idle": "2022-04-13T17:03:10.405107Z",
     "shell.execute_reply": "2022-04-13T17:03:10.404194Z",
     "shell.execute_reply.started": "2022-04-13T17:01:38.184101Z"
    },
    "papermill": {
     "duration": 4.247638,
     "end_time": "2022-04-13T17:03:10.405257",
     "exception": false,
     "start_time": "2022-04-13T17:03:06.157619",
     "status": "completed"
    },
    "tags": []
   },
   "outputs": [],
   "source": [
    "import tensorflow as tf"
   ]
  },
  {
   "cell_type": "markdown",
   "id": "391ebfaf",
   "metadata": {
    "papermill": {
     "duration": 0.013127,
     "end_time": "2022-04-13T17:03:10.433084",
     "exception": false,
     "start_time": "2022-04-13T17:03:10.419957",
     "status": "completed"
    },
    "tags": []
   },
   "source": [
    "Set seed"
   ]
  },
  {
   "cell_type": "code",
   "execution_count": 3,
   "id": "8969ec7d",
   "metadata": {
    "execution": {
     "iopub.execute_input": "2022-04-13T17:03:10.464765Z",
     "iopub.status.busy": "2022-04-13T17:03:10.463922Z",
     "iopub.status.idle": "2022-04-13T17:03:10.466197Z",
     "shell.execute_reply": "2022-04-13T17:03:10.465702Z",
     "shell.execute_reply.started": "2022-04-13T17:01:42.372333Z"
    },
    "papermill": {
     "duration": 0.020022,
     "end_time": "2022-04-13T17:03:10.466301",
     "exception": false,
     "start_time": "2022-04-13T17:03:10.446279",
     "status": "completed"
    },
    "tags": []
   },
   "outputs": [],
   "source": [
    "SEED = 0\n",
    "import random\n",
    "import numpy as np\n",
    "random.seed(SEED)\n",
    "np.random.seed(SEED)\n",
    "tf.random.set_seed(SEED)"
   ]
  },
  {
   "cell_type": "markdown",
   "id": "9bb6398e",
   "metadata": {
    "papermill": {
     "duration": 0.013055,
     "end_time": "2022-04-13T17:03:10.492554",
     "exception": false,
     "start_time": "2022-04-13T17:03:10.479499",
     "status": "completed"
    },
    "tags": []
   },
   "source": [
    "# Load data"
   ]
  },
  {
   "cell_type": "code",
   "execution_count": 4,
   "id": "a61f728c",
   "metadata": {
    "execution": {
     "iopub.execute_input": "2022-04-13T17:03:10.522938Z",
     "iopub.status.busy": "2022-04-13T17:03:10.522337Z",
     "iopub.status.idle": "2022-04-13T17:03:10.925753Z",
     "shell.execute_reply": "2022-04-13T17:03:10.925249Z",
     "shell.execute_reply.started": "2022-04-13T17:01:42.379178Z"
    },
    "papermill": {
     "duration": 0.420037,
     "end_time": "2022-04-13T17:03:10.925890",
     "exception": false,
     "start_time": "2022-04-13T17:03:10.505853",
     "status": "completed"
    },
    "tags": []
   },
   "outputs": [],
   "source": [
    "import numpy as np\n",
    "import cv2"
   ]
  },
  {
   "cell_type": "code",
   "execution_count": 5,
   "id": "d4890b68",
   "metadata": {
    "execution": {
     "iopub.execute_input": "2022-04-13T17:03:10.964501Z",
     "iopub.status.busy": "2022-04-13T17:03:10.962882Z",
     "iopub.status.idle": "2022-04-13T17:03:10.965106Z",
     "shell.execute_reply": "2022-04-13T17:03:10.965499Z",
     "shell.execute_reply.started": "2022-04-13T17:01:42.662026Z"
    },
    "papermill": {
     "duration": 0.025782,
     "end_time": "2022-04-13T17:03:10.965618",
     "exception": false,
     "start_time": "2022-04-13T17:03:10.939836",
     "status": "completed"
    },
    "tags": []
   },
   "outputs": [],
   "source": [
    "ORIGINAL_FRAMES_PER_VIDEO = 150\n",
    "FRAMES_PER_VIDEO = 50 + 1\n",
    "VIDEO_WIDTH, VIDEO_HEIGHT = 100, 100\n",
    "N_CHANNELS = 3\n",
    "NORM_WIDTH, NORM_HEIGHT = 5, 5\n",
    "\n",
    "\n",
    "def load_videos(video_IDs: list, video_frames: int = FRAMES_PER_VIDEO, video_width: int = VIDEO_WIDTH, video_height: int = VIDEO_HEIGHT,\n",
    "                video_channels: int = N_CHANNELS, dtype = np.float32, normalize: bool = False) -> tuple:\n",
    "    # If frame diff will be computed, load an extra frame for the last one\n",
    "    #if for_diff:\n",
    "    #    video_frames = min(video_frames+1, ORIGINAL_FRAMES_PER_VIDEO)\n",
    "    \n",
    "    videos = np.empty((len(video_IDs), video_frames, video_height, video_width, video_channels), dtype=dtype)\n",
    "    \n",
    "    # Indexes of frames to be kept to comply with video_frames\n",
    "    frames_idx = set(np.round(np.linspace(0, ORIGINAL_FRAMES_PER_VIDEO - 1, video_frames)).astype(int))\n",
    "\n",
    "    for i, video_ID in enumerate(video_IDs):\n",
    "        cap = cv2.VideoCapture(video_ID)\n",
    "        frames = []\n",
    "        index = 0\n",
    "        while True:\n",
    "            ret, frame = cap.read()\n",
    "            if not ret:\n",
    "                break\n",
    "            if index in frames_idx:\n",
    "                frame = cv2.GaussianBlur(frame, (NORM_WIDTH, NORM_HEIGHT), 0)\n",
    "                frame = cv2.resize(frame, (video_width, video_height)).astype(dtype)\n",
    "                if normalize:\n",
    "                    frame /= 255.0\n",
    "                frames.append(frame)\n",
    "            index += 1\n",
    "        cap.release()\n",
    "\n",
    "        videos[i,] = np.array(frames)\n",
    "\n",
    "    return videos"
   ]
  },
  {
   "cell_type": "code",
   "execution_count": 6,
   "id": "6dabd4ae",
   "metadata": {
    "execution": {
     "iopub.execute_input": "2022-04-13T17:03:11.000328Z",
     "iopub.status.busy": "2022-04-13T17:03:10.999402Z",
     "iopub.status.idle": "2022-04-13T17:03:11.828451Z",
     "shell.execute_reply": "2022-04-13T17:03:11.828904Z",
     "shell.execute_reply.started": "2022-04-13T17:01:42.683573Z"
    },
    "papermill": {
     "duration": 0.850137,
     "end_time": "2022-04-13T17:03:11.829067",
     "exception": false,
     "start_time": "2022-04-13T17:03:10.978930",
     "status": "completed"
    },
    "tags": []
   },
   "outputs": [],
   "source": [
    "import tensorflow.keras.backend as K\n",
    "\n",
    "def frame_diff(video):\n",
    "    return np.diff(video, axis=0)\n",
    "\n",
    "def frame_dist(video):\n",
    "    video_diff = frame_diff(video)\n",
    "    return np.sqrt(np.square(video_diff).sum(axis=-1))\n",
    "\n",
    "def tf_frame_diff(video):\n",
    "    return video[1:] - video[:-1]\n",
    "\n",
    "# TODO: try abs(frame_diff)\n",
    "# TODO: try to sum only -frame_diff > 0 !!!\n",
    "\n",
    "if WEIGHT_CURRENT:\n",
    "    def tf_frame_diff_relu(video):\n",
    "        # -1 * frame_diff & only positive \n",
    "        # (only colored pixels that change in current from next)\n",
    "        return tf.nn.relu(video[:-1] - video[1:])\n",
    "else:\n",
    "    def tf_frame_diff_relu(video):\n",
    "        # -1 * frame_diff & only positive \n",
    "        # (only colored pixels that change in current from previous)\n",
    "        return tf.nn.relu(video[1:] - video[:-1])\n",
    "\n",
    "def tf_frame_dist(video):\n",
    "    video_diff = tf_frame_diff(video)\n",
    "    return K.sqrt(K.sum(K.square(video_diff), axis=-1, keepdims=True))\n",
    "\n",
    "if WEIGHT_CURRENT:\n",
    "    def tf_frame_diff_dist_combined(video):\n",
    "        video_diff = tf_frame_diff(video)\n",
    "        video_diff_current = tf.nn.relu(-video_diff)\n",
    "        video_diff_next = tf.nn.relu(video_diff)\n",
    "        video_diff_next_norm = K.sqrt(K.sum(K.square(video_diff_next), axis=-1, keepdims=True))\n",
    "        return K.concatenate([video_diff_current, video_diff_next_norm])\n",
    "else:\n",
    "    def tf_frame_diff_dist_combined(video):\n",
    "        video_diff = tf_frame_diff(video)\n",
    "        video_diff_current = tf.nn.relu(video_diff)\n",
    "        video_diff_prev = tf.nn.relu(-video_diff)\n",
    "        video_diff_prev_norm = K.sqrt(K.sum(K.square(video_diff_prev), axis=-1, keepdims=True))\n",
    "        return K.concatenate([video_diff_current, video_diff_prev_norm])\n",
    "\n",
    "\n",
    "frame_func_dict = {'frame_diff': tf_frame_diff, 'frame_diff_dist_combined': tf_frame_diff_dist_combined, 'frame_diff_relu': tf_frame_diff_relu, 'frame_dist': tf_frame_dist}\n",
    "frame_func = frame_func_dict[FRAME_FUNC]"
   ]
  },
  {
   "cell_type": "markdown",
   "id": "8c294eb4",
   "metadata": {
    "papermill": {
     "duration": 0.01402,
     "end_time": "2022-04-13T17:03:11.857118",
     "exception": false,
     "start_time": "2022-04-13T17:03:11.843098",
     "status": "completed"
    },
    "tags": []
   },
   "source": [
    "DataGenerator class to load videos per batch, in case all videos do not fit in memory"
   ]
  },
  {
   "cell_type": "code",
   "execution_count": 7,
   "id": "17d1acb5",
   "metadata": {
    "execution": {
     "iopub.execute_input": "2022-04-13T17:03:11.895463Z",
     "iopub.status.busy": "2022-04-13T17:03:11.894687Z",
     "iopub.status.idle": "2022-04-13T17:03:11.896704Z",
     "shell.execute_reply": "2022-04-13T17:03:11.897094Z",
     "shell.execute_reply.started": "2022-04-13T17:01:43.895170Z"
    },
    "papermill": {
     "duration": 0.026528,
     "end_time": "2022-04-13T17:03:11.897220",
     "exception": false,
     "start_time": "2022-04-13T17:03:11.870692",
     "status": "completed"
    },
    "tags": []
   },
   "outputs": [],
   "source": [
    "import gc\n",
    "from tensorflow.keras import backend as K\n",
    "\n",
    "class DataGenerator(tf.keras.utils.Sequence):\n",
    "    def __init__(self, video_IDs: list, video_labels: dict, batch_size: int, paths: list = [''], video_width: int = VIDEO_WIDTH, video_height: int = VIDEO_HEIGHT,\n",
    "                video_frames: int = FRAMES_PER_VIDEO, video_channels: int = N_CHANNELS, dtype = np.float32, normalize: bool = False, shuffle: bool = True):\n",
    "        self.video_IDs = video_IDs\n",
    "        self.video_labels = video_labels\n",
    "        self.batch_size = batch_size\n",
    "        self.paths = paths\n",
    "        self.video_width = video_width\n",
    "        self.video_height = video_height\n",
    "        self.video_frames = video_frames\n",
    "        self.video_channels = video_channels\n",
    "        self.dtype = dtype\n",
    "        self.normalize = normalize\n",
    "        self.shuffle = shuffle\n",
    "\n",
    "    def __len__(self):\n",
    "        return len(self.video_IDs) // self.batch_size\n",
    "\n",
    "    def __getitem__(self, idx):\n",
    "        batch_IDs = self.video_IDs[idx*self.batch_size:(idx+1)*self.batch_size]\n",
    "        input_videos = []\n",
    "        \n",
    "        for index, path in enumerate(self.paths):\n",
    "            batch_IDs_full_path = [path+ID for ID in batch_IDs]\n",
    "\n",
    "            videos = load_videos(batch_IDs_full_path, self.video_frames, self.video_width, \n",
    "                                         self.video_height, self.video_channels, self.dtype, self.normalize)\n",
    "            \n",
    "            input_videos.append(videos)\n",
    "        \n",
    "        labels = np.array([self.video_labels[ID] for ID in batch_IDs])\n",
    "                    \n",
    "        return input_videos, labels\n",
    "            \n",
    "    \n",
    "    def on_epoch_end(self):\n",
    "        'Updates indexes after each epoch'\n",
    "        if self.shuffle:\n",
    "            np.random.shuffle(self.video_IDs)\n",
    "        # Clear memory after epochs\n",
    "        gc.collect()\n",
    "        #K.clear_session()"
   ]
  },
  {
   "cell_type": "markdown",
   "id": "d85e1a51",
   "metadata": {
    "papermill": {
     "duration": 0.013216,
     "end_time": "2022-04-13T17:03:11.924044",
     "exception": false,
     "start_time": "2022-04-13T17:03:11.910828",
     "status": "completed"
    },
    "tags": []
   },
   "source": [
    "## Videos to load"
   ]
  },
  {
   "cell_type": "code",
   "execution_count": 8,
   "id": "78dac789",
   "metadata": {
    "execution": {
     "iopub.execute_input": "2022-04-13T17:03:11.955568Z",
     "iopub.status.busy": "2022-04-13T17:03:11.954921Z",
     "iopub.status.idle": "2022-04-13T17:03:11.957153Z",
     "shell.execute_reply": "2022-04-13T17:03:11.957523Z",
     "shell.execute_reply.started": "2022-04-13T17:01:43.914243Z"
    },
    "papermill": {
     "duration": 0.020381,
     "end_time": "2022-04-13T17:03:11.957645",
     "exception": false,
     "start_time": "2022-04-13T17:03:11.937264",
     "status": "completed"
    },
    "tags": []
   },
   "outputs": [],
   "source": [
    "def get_slug_from_path(path):\n",
    "    \"\"\"\n",
    "    Function to get slug from path\n",
    "    slug must contain /train or /val because there are repeated names\n",
    "    \"\"\"\n",
    "    # Try train index first\n",
    "    index = path.rfind('/train/')\n",
    "    if index == -1:\n",
    "        index = path.rfind('/val/')\n",
    "    return path[index:]"
   ]
  },
  {
   "cell_type": "code",
   "execution_count": 9,
   "id": "b11b28b6",
   "metadata": {
    "execution": {
     "iopub.execute_input": "2022-04-13T17:03:11.989623Z",
     "iopub.status.busy": "2022-04-13T17:03:11.989136Z",
     "iopub.status.idle": "2022-04-13T17:03:12.250635Z",
     "shell.execute_reply": "2022-04-13T17:03:12.250077Z",
     "shell.execute_reply.started": "2022-04-13T17:01:43.930970Z"
    },
    "papermill": {
     "duration": 0.279831,
     "end_time": "2022-04-13T17:03:12.250806",
     "exception": false,
     "start_time": "2022-04-13T17:03:11.970975",
     "status": "completed"
    },
    "tags": []
   },
   "outputs": [],
   "source": [
    "import glob\n",
    "\n",
    "train_video_IDs = [get_slug_from_path(path) for path in glob.glob(PATHS[0]+'/train/*/*')]\n",
    "test_video_IDs = [get_slug_from_path(path) for path in glob.glob(PATHS[0]+'/val/*/*')]\n",
    "\n",
    "train_video_labels = {video: 0 if 'NonFight' in video else 1 for video in train_video_IDs}\n",
    "test_video_labels = {video: 0 if 'NonFight' in video else 1 for video in test_video_IDs}\n",
    "\n",
    "\n",
    "train_generator = DataGenerator(train_video_IDs, train_video_labels, batch_size=10, paths=PATHS)\n",
    "test_generator = DataGenerator(test_video_IDs, test_video_labels, batch_size=10, paths=PATHS)"
   ]
  },
  {
   "cell_type": "markdown",
   "id": "b79e6e40",
   "metadata": {
    "papermill": {
     "duration": 0.015403,
     "end_time": "2022-04-13T17:03:12.281733",
     "exception": false,
     "start_time": "2022-04-13T17:03:12.266330",
     "status": "completed"
    },
    "tags": []
   },
   "source": [
    "## Filter initializer"
   ]
  },
  {
   "cell_type": "code",
   "execution_count": 10,
   "id": "843aee04",
   "metadata": {
    "execution": {
     "iopub.execute_input": "2022-04-13T17:03:12.319826Z",
     "iopub.status.busy": "2022-04-13T17:03:12.319019Z",
     "iopub.status.idle": "2022-04-13T17:03:12.321428Z",
     "shell.execute_reply": "2022-04-13T17:03:12.321963Z",
     "shell.execute_reply.started": "2022-04-13T17:01:44.168447Z"
    },
    "papermill": {
     "duration": 0.025059,
     "end_time": "2022-04-13T17:03:12.322107",
     "exception": false,
     "start_time": "2022-04-13T17:03:12.297048",
     "status": "completed"
    },
    "tags": []
   },
   "outputs": [],
   "source": [
    "def gauss_kernel(shape, dtype=None):\n",
    "    channels = shape[-2]\n",
    "    kernel_size = shape[0]\n",
    "    ax = tf.range(-kernel_size // 2 + 1.0, kernel_size // 2 + 1.0)\n",
    "    xx, yy = tf.meshgrid(ax, ax)\n",
    "    kernel = tf.exp(-(xx ** 2 + yy ** 2) / (2.0))\n",
    "    kernel = kernel / tf.reduce_sum(kernel)\n",
    "    kernel = tf.tile(kernel[..., tf.newaxis], [1, 1, channels])\n",
    "    kernel = tf.expand_dims(kernel, axis=-1)\n",
    "    return kernel"
   ]
  },
  {
   "cell_type": "markdown",
   "id": "027e1b8e",
   "metadata": {
    "papermill": {
     "duration": 0.015101,
     "end_time": "2022-04-13T17:03:12.352356",
     "exception": false,
     "start_time": "2022-04-13T17:03:12.337255",
     "status": "completed"
    },
    "tags": []
   },
   "source": [
    "# Simple ConvLSTM"
   ]
  },
  {
   "cell_type": "code",
   "execution_count": 11,
   "id": "03544900",
   "metadata": {
    "execution": {
     "iopub.execute_input": "2022-04-13T17:03:12.401523Z",
     "iopub.status.busy": "2022-04-13T17:03:12.400900Z",
     "iopub.status.idle": "2022-04-13T17:03:15.142253Z",
     "shell.execute_reply": "2022-04-13T17:03:15.141692Z",
     "shell.execute_reply.started": "2022-04-13T17:01:44.179643Z"
    },
    "papermill": {
     "duration": 2.774599,
     "end_time": "2022-04-13T17:03:15.142392",
     "exception": false,
     "start_time": "2022-04-13T17:03:12.367793",
     "status": "completed"
    },
    "tags": []
   },
   "outputs": [
    {
     "name": "stderr",
     "output_type": "stream",
     "text": [
      "2022-04-13 17:03:12.609954: I tensorflow/stream_executor/cuda/cuda_gpu_executor.cc:937] successful NUMA node read from SysFS had negative value (-1), but there must be at least one NUMA node, so returning NUMA node zero\n",
      "2022-04-13 17:03:12.701004: I tensorflow/stream_executor/cuda/cuda_gpu_executor.cc:937] successful NUMA node read from SysFS had negative value (-1), but there must be at least one NUMA node, so returning NUMA node zero\n",
      "2022-04-13 17:03:12.701827: I tensorflow/stream_executor/cuda/cuda_gpu_executor.cc:937] successful NUMA node read from SysFS had negative value (-1), but there must be at least one NUMA node, so returning NUMA node zero\n",
      "2022-04-13 17:03:12.703109: I tensorflow/core/platform/cpu_feature_guard.cc:142] This TensorFlow binary is optimized with oneAPI Deep Neural Network Library (oneDNN) to use the following CPU instructions in performance-critical operations:  AVX2 AVX512F FMA\n",
      "To enable them in other operations, rebuild TensorFlow with the appropriate compiler flags.\n",
      "2022-04-13 17:03:12.704140: I tensorflow/stream_executor/cuda/cuda_gpu_executor.cc:937] successful NUMA node read from SysFS had negative value (-1), but there must be at least one NUMA node, so returning NUMA node zero\n",
      "2022-04-13 17:03:12.704815: I tensorflow/stream_executor/cuda/cuda_gpu_executor.cc:937] successful NUMA node read from SysFS had negative value (-1), but there must be at least one NUMA node, so returning NUMA node zero\n",
      "2022-04-13 17:03:12.705426: I tensorflow/stream_executor/cuda/cuda_gpu_executor.cc:937] successful NUMA node read from SysFS had negative value (-1), but there must be at least one NUMA node, so returning NUMA node zero\n",
      "2022-04-13 17:03:14.447074: I tensorflow/stream_executor/cuda/cuda_gpu_executor.cc:937] successful NUMA node read from SysFS had negative value (-1), but there must be at least one NUMA node, so returning NUMA node zero\n",
      "2022-04-13 17:03:14.447942: I tensorflow/stream_executor/cuda/cuda_gpu_executor.cc:937] successful NUMA node read from SysFS had negative value (-1), but there must be at least one NUMA node, so returning NUMA node zero\n",
      "2022-04-13 17:03:14.448589: I tensorflow/stream_executor/cuda/cuda_gpu_executor.cc:937] successful NUMA node read from SysFS had negative value (-1), but there must be at least one NUMA node, so returning NUMA node zero\n",
      "2022-04-13 17:03:14.449182: I tensorflow/core/common_runtime/gpu/gpu_device.cc:1510] Created device /job:localhost/replica:0/task:0/device:GPU:0 with 15403 MB memory:  -> device: 0, name: Tesla P100-PCIE-16GB, pci bus id: 0000:00:04.0, compute capability: 6.0\n"
     ]
    },
    {
     "name": "stdout",
     "output_type": "stream",
     "text": [
      "Model: \"model\"\n",
      "__________________________________________________________________________________________________\n",
      "Layer (type)                    Output Shape         Param #     Connected to                     \n",
      "==================================================================================================\n",
      "input_1 (InputLayer)            [(None, 51, 100, 100 0                                            \n",
      "__________________________________________________________________________________________________\n",
      "lambda (Lambda)                 (None, 50, 100, 100, 0           input_1[0][0]                    \n",
      "__________________________________________________________________________________________________\n",
      "tf.__operators__.getitem_1 (Sli (None, 50, 100, 100) 0           lambda[0][0]                     \n",
      "__________________________________________________________________________________________________\n",
      "tf.expand_dims (TFOpLambda)     (None, 50, 100, 100, 0           tf.__operators__.getitem_1[0][0] \n",
      "__________________________________________________________________________________________________\n",
      "tf.__operators__.getitem (Slici (None, 50, 100, 100, 0           lambda[0][0]                     \n",
      "__________________________________________________________________________________________________\n",
      "time_distributed_2 (TimeDistrib (None, 50, 100, 100, 26          tf.expand_dims[0][0]             \n",
      "__________________________________________________________________________________________________\n",
      "input_2 (InputLayer)            [(None, 51, 100, 100 0                                            \n",
      "__________________________________________________________________________________________________\n",
      "add (Add)                       (None, 50, 100, 100, 0           tf.__operators__.getitem[0][0]   \n",
      "                                                                 time_distributed_2[0][0]         \n",
      "__________________________________________________________________________________________________\n",
      "tf.__operators__.getitem_2 (Sli (None, 50, 100, 100, 0           input_2[0][0]                    \n",
      "__________________________________________________________________________________________________\n",
      "time_distributed_3 (TimeDistrib (None, 50, 98, 98, 9 252         add[0][0]                        \n",
      "__________________________________________________________________________________________________\n",
      "time_distributed (TimeDistribut (None, 50, 98, 98, 9 252         tf.__operators__.getitem_2[0][0] \n",
      "__________________________________________________________________________________________________\n",
      "batch_normalization (BatchNorma (None, 50, 98, 98, 9 36          time_distributed_3[0][0]         \n",
      "__________________________________________________________________________________________________\n",
      "time_distributed_1 (TimeDistrib (None, 50, 96, 96, 9 738         time_distributed[0][0]           \n",
      "__________________________________________________________________________________________________\n",
      "conv_lst_m2d (ConvLSTM2D)       (None, 50, 96, 96, 9 5868        batch_normalization[0][0]        \n",
      "__________________________________________________________________________________________________\n",
      "multiply (Multiply)             (None, 50, 96, 96, 9 0           time_distributed_1[0][0]         \n",
      "                                                                 conv_lst_m2d[0][0]               \n",
      "__________________________________________________________________________________________________\n",
      "batch_normalization_1 (BatchNor (None, 50, 96, 96, 9 36          multiply[0][0]                   \n",
      "__________________________________________________________________________________________________\n",
      "conv_lst_m2d_1 (ConvLSTM2D)     (None, 94, 94, 32)   47360       batch_normalization_1[0][0]      \n",
      "__________________________________________________________________________________________________\n",
      "global_average_pooling2d (Globa (None, 32)           0           conv_lst_m2d_1[0][0]             \n",
      "__________________________________________________________________________________________________\n",
      "dense (Dense)                   (None, 128)          4224        global_average_pooling2d[0][0]   \n",
      "__________________________________________________________________________________________________\n",
      "dense_1 (Dense)                 (None, 16)           2064        dense[0][0]                      \n",
      "__________________________________________________________________________________________________\n",
      "dense_2 (Dense)                 (None, 1)            17          dense_1[0][0]                    \n",
      "==================================================================================================\n",
      "Total params: 60,873\n",
      "Trainable params: 60,811\n",
      "Non-trainable params: 62\n",
      "__________________________________________________________________________________________________\n"
     ]
    }
   ],
   "source": [
    "inputs_raw = tf.keras.layers.Input(shape=(FRAMES_PER_VIDEO, VIDEO_HEIGHT, VIDEO_WIDTH, N_CHANNELS))\n",
    "inputs_openpose = tf.keras.layers.Input(shape=(FRAMES_PER_VIDEO, VIDEO_HEIGHT, VIDEO_WIDTH, N_CHANNELS))\n",
    "\n",
    "\n",
    "inputs_diff = tf.keras.layers.Lambda(lambda video: tf.map_fn(frame_func, video))(inputs_raw)   # frame difference  # TODO: may not be portable\n",
    "\n",
    "# FRAME_FUNC == frame_diff_dist_combined:\n",
    "#\"\"\"\n",
    "inputs_diff_current = inputs_diff[:,:,:,:,:-1]\n",
    "inputs_diff_next_norm = tf.expand_dims(inputs_diff[:,:,:,:,-1], axis=-1)\n",
    "#\"\"\"\n",
    "\n",
    "convolutional_layer_openpose_1 = tf.keras.layers.Conv2D(filters=9, kernel_size=(3,3), activation='relu')\n",
    "convolutional_layer_diff = tf.keras.layers.Conv2D(filters=1, kernel_size=(5,5), padding='same', kernel_initializer=gauss_kernel)\n",
    "convolutional_layer_diff.trainable = False\n",
    "\n",
    "inputs_to_weight = inputs_openpose[:, :-1] if WEIGHT_CURRENT else inputs_openpose[:, 1:]\n",
    "\n",
    "#inputs_diff_weight = tf.keras.layers.TimeDistributed(convolutional_layer)(inputs_diff)\n",
    "inputs_openpose_soft_1 = tf.keras.layers.TimeDistributed(convolutional_layer_openpose_1)(inputs_to_weight)\n",
    "convolutional_layer_openpose_2 = tf.keras.layers.Conv2D(filters=9, kernel_size=(3,3), activation='relu')\n",
    "inputs_openpose_soft = tf.keras.layers.TimeDistributed(convolutional_layer_openpose_2)(inputs_openpose_soft_1)\n",
    "inputs_diff_next_norm_gauss = tf.keras.layers.TimeDistributed(convolutional_layer_diff)(inputs_diff_next_norm)\n",
    "\n",
    "\n",
    "#inputs_weighted = tf.keras.layers.Multiply()([inputs_to_weight, inputs_diff_weight])\n",
    "inputs_diff_map = tf.keras.layers.Add()([inputs_diff_current, inputs_diff_next_norm_gauss])\n",
    "#inputs_weighted = tf.keras.layers.Add()([inputs_to_weight, inputs_diff_current, inputs_diff_next_norm_gauss])\n",
    "\n",
    "convolutional_layer_raw = tf.keras.layers.Conv2D(filters=9, kernel_size=(3,3), activation='relu')\n",
    "inputs_diff_map_soft = tf.keras.layers.TimeDistributed(convolutional_layer_raw)(inputs_diff_map)\n",
    "\n",
    "#inputs_normalized = tf.keras.layers.BatchNormalization()(inputs_to_weight)\n",
    "#inputs_diff_map = inputs_diff\n",
    "inputs_diff_map_normalized = tf.keras.layers.BatchNormalization()(inputs_diff_map_soft)\n",
    "\n",
    "#x_inputs = tf.keras.layers.ConvLSTM2D(filters=8, kernel_size=(3, 3), return_sequences=True, data_format='channels_last', activation='relu')(inputs_normalized)\n",
    "x_diff_map = tf.keras.layers.ConvLSTM2D(filters=9, kernel_size=(3, 3), return_sequences=True, data_format='channels_last', activation='sigmoid')(inputs_diff_map_normalized)\n",
    "#x_diff_map = tf.keras.activations.sigmoid(x_diff_map)\n",
    "x_combined = tf.keras.layers.Multiply()([inputs_openpose_soft, x_diff_map])\n",
    "x_combined_norm = tf.keras.layers.BatchNormalization()(x_combined)\n",
    "# TODO: try more with more memory!!!\n",
    "x_inputs = tf.keras.layers.ConvLSTM2D(filters=32, kernel_size=(3, 3), return_sequences=False, data_format='channels_last', activation='tanh')(x_combined_norm)\n",
    "#x_diff_map = tf.keras.layers.ConvLSTM2D(filters=10, kernel_size=(3, 3), return_sequences=False, data_format='channels_last', activation='tanh')(inputs_diff_map_normalized)\n",
    "\n",
    "x_inputs_pool = tf.keras.layers.GlobalAveragePooling2D(data_format='channels_last')(x_inputs)\n",
    "#x_diff_map_pool = tf.keras.layers.GlobalAveragePooling2D(data_format='channels_last')(x_diff_map)\n",
    "#x = tf.keras.layers.Concatenate()([x_inputs_pool, x_diff_map_pool])\n",
    "x = x_inputs_pool\n",
    "#x = tf.keras.layers.ConvLSTM2D(filters=32, kernel_size=(3, 3), return_sequences=False, data_format='channels_last', activation='tanh')(x_combined)\n",
    "\n",
    "#x = tf.keras.layers.GlobalAveragePooling2D(data_format='channels_last')(x)\n",
    "\n",
    "#x = tf.keras.layers.AveragePooling2D(4)(x)\n",
    "#x = tf.keras.layers.Flatten()(x)\n",
    "#x = tf.keras.layers.BatchNormalization()(x)\n",
    "#x = tf.keras.layers.Dense(units=1024, activation='relu')(x)\n",
    "#x = tf.keras.layers.ReLU()(x)  # Avoid possible memory leak\n",
    "x = tf.keras.layers.Dense(units=128, activation='relu')(x)\n",
    "#x = tf.keras.layers.ReLU()(x)\n",
    "x = tf.keras.layers.Dense(units=16, activation='relu')(x)\n",
    "#x = tf.keras.layers.ReLU()(x)\n",
    "outputs = tf.keras.layers.Dense(units=1, activation='sigmoid')(x)\n",
    "\n",
    "model = tf.keras.Model([inputs_raw, inputs_openpose], outputs)\n",
    "model.compile(optimizer='adam',loss='binary_crossentropy', metrics=['accuracy'])\n",
    "\n",
    "model.summary()"
   ]
  },
  {
   "cell_type": "code",
   "execution_count": 12,
   "id": "43cfdcd7",
   "metadata": {
    "execution": {
     "iopub.execute_input": "2022-04-13T17:03:15.176648Z",
     "iopub.status.busy": "2022-04-13T17:03:15.175921Z",
     "iopub.status.idle": "2022-04-13T20:45:20.839584Z",
     "shell.execute_reply": "2022-04-13T20:45:20.838811Z",
     "shell.execute_reply.started": "2022-04-13T17:01:47.131316Z"
    },
    "papermill": {
     "duration": 13325.685772,
     "end_time": "2022-04-13T20:45:20.843000",
     "exception": false,
     "start_time": "2022-04-13T17:03:15.157228",
     "status": "completed"
    },
    "tags": []
   },
   "outputs": [
    {
     "name": "stderr",
     "output_type": "stream",
     "text": [
      "2022-04-13 17:03:20.333547: I tensorflow/compiler/mlir/mlir_graph_optimization_pass.cc:185] None of the MLIR Optimization Passes are enabled (registered 2)\n"
     ]
    },
    {
     "name": "stdout",
     "output_type": "stream",
     "text": [
      "Epoch 1/10\n"
     ]
    },
    {
     "name": "stderr",
     "output_type": "stream",
     "text": [
      "2022-04-13 17:03:33.173250: I tensorflow/stream_executor/cuda/cuda_dnn.cc:369] Loaded cuDNN version 8005\n"
     ]
    },
    {
     "name": "stdout",
     "output_type": "stream",
     "text": [
      "160/160 - 1370s - loss: 0.7018 - accuracy: 0.5113 - val_loss: 0.6550 - val_accuracy: 0.7125\n",
      "Epoch 2/10\n",
      "160/160 - 1326s - loss: 0.6088 - accuracy: 0.6725 - val_loss: 0.4960 - val_accuracy: 0.7550\n",
      "Epoch 3/10\n",
      "160/160 - 1298s - loss: 0.5194 - accuracy: 0.7394 - val_loss: 0.4988 - val_accuracy: 0.7400\n",
      "Epoch 4/10\n",
      "160/160 - 1289s - loss: 0.4725 - accuracy: 0.7775 - val_loss: 0.5197 - val_accuracy: 0.7375\n",
      "Epoch 5/10\n",
      "160/160 - 1287s - loss: 0.4559 - accuracy: 0.7919 - val_loss: 0.4118 - val_accuracy: 0.8075\n",
      "Epoch 6/10\n",
      "160/160 - 1300s - loss: 0.4220 - accuracy: 0.8156 - val_loss: 0.4118 - val_accuracy: 0.8350\n",
      "Epoch 7/10\n",
      "160/160 - 1313s - loss: 0.3996 - accuracy: 0.8200 - val_loss: 0.3831 - val_accuracy: 0.8350\n",
      "Epoch 8/10\n",
      "160/160 - 1289s - loss: 0.3953 - accuracy: 0.8244 - val_loss: 0.3905 - val_accuracy: 0.8500\n",
      "Epoch 9/10\n",
      "160/160 - 1286s - loss: 0.3783 - accuracy: 0.8400 - val_loss: 0.4150 - val_accuracy: 0.8125\n",
      "Epoch 10/10\n",
      "160/160 - 1286s - loss: 0.3678 - accuracy: 0.8469 - val_loss: 0.3958 - val_accuracy: 0.8325\n"
     ]
    }
   ],
   "source": [
    "history = model.fit(train_generator, epochs=10, validation_data=test_generator, verbose=2)"
   ]
  },
  {
   "cell_type": "markdown",
   "id": "3951ce3a",
   "metadata": {
    "papermill": {
     "duration": 0.019896,
     "end_time": "2022-04-13T20:45:20.886576",
     "exception": false,
     "start_time": "2022-04-13T20:45:20.866680",
     "status": "completed"
    },
    "tags": []
   },
   "source": [
    "# Model performance"
   ]
  },
  {
   "cell_type": "code",
   "execution_count": 13,
   "id": "e8a020e9",
   "metadata": {
    "execution": {
     "iopub.execute_input": "2022-04-13T20:45:20.952857Z",
     "iopub.status.busy": "2022-04-13T20:45:20.952056Z",
     "iopub.status.idle": "2022-04-13T20:45:21.444128Z",
     "shell.execute_reply": "2022-04-13T20:45:21.444645Z",
     "shell.execute_reply.started": "2022-04-13T17:01:47.133456Z"
    },
    "papermill": {
     "duration": 0.537497,
     "end_time": "2022-04-13T20:45:21.444823",
     "exception": false,
     "start_time": "2022-04-13T20:45:20.907326",
     "status": "completed"
    },
    "tags": []
   },
   "outputs": [
    {
     "data": {
      "image/png": "[encoded data removed]",
      "text/plain": [
       "<Figure size 432x288 with 1 Axes>"
      ]
     },
     "metadata": {
      "needs_background": "light"
     },
     "output_type": "display_data"
    },
    {
     "data": {
      "image/png": "[encoded data removed]",
      "text/plain": [
       "<Figure size 432x288 with 1 Axes>"
      ]
     },
     "metadata": {
      "needs_background": "light"
     },
     "output_type": "display_data"
    }
   ],
   "source": [
    "import matplotlib.pyplot as plt\n",
    "# summarize history for accuracy\n",
    "plt.plot(history.history['accuracy'])\n",
    "plt.plot(history.history['val_accuracy'])\n",
    "plt.title(f\"openpose_{'' if BACKGROUND else 'no_'}back weight {FRAME_FUNC} model accuracy\")\n",
    "plt.ylabel('accuracy')\n",
    "plt.xlabel('epoch')\n",
    "plt.legend(['train', 'test'], loc='upper left')\n",
    "plt.show()\n",
    "# summarize history for loss\n",
    "plt.plot(history.history['loss'])\n",
    "plt.plot(history.history['val_loss'])\n",
    "plt.title(f\"openpose_{'' if BACKGROUND else 'no_'}back weight {FRAME_FUNC} model loss\")\n",
    "plt.ylabel('loss')\n",
    "plt.xlabel('epoch')\n",
    "plt.legend(['train', 'test'], loc='upper left')\n",
    "plt.show()"
   ]
  },
  {
   "cell_type": "code",
   "execution_count": null,
   "id": "323f4a14",
   "metadata": {
    "papermill": {
     "duration": 0.02154,
     "end_time": "2022-04-13T20:45:21.489472",
     "exception": false,
     "start_time": "2022-04-13T20:45:21.467932",
     "status": "completed"
    },
    "tags": []
   },
   "outputs": [],
   "source": []
  }
 ],
 "metadata": {
  "kernelspec": {
   "display_name": "Python 3",
   "language": "python",
   "name": "python3"
  },
  "language_info": {
   "codemirror_mode": {
    "name": "ipython",
    "version": 3
   },
   "file_extension": ".py",
   "mimetype": "text/x-python",
   "name": "python",
   "nbconvert_exporter": "python",
   "pygments_lexer": "ipython3",
   "version": "3.7.12"
  },
  "papermill": {
   "default_parameters": {},
   "duration": 13347.233224,
   "end_time": "2022-04-13T20:45:24.677925",
   "environment_variables": {},
   "exception": null,
   "input_path": "__notebook__.ipynb",
   "output_path": "__notebook__.ipynb",
   "parameters": {},
   "start_time": "2022-04-13T17:02:57.444701",
   "version": "2.3.3"
  }
 },
 "nbformat": 4,
 "nbformat_minor": 5
}
