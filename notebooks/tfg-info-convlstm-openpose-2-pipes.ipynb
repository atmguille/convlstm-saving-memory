{
 "cells": [
  {
   "cell_type": "markdown",
   "id": "3d6cf6f0",
   "metadata": {
    "_cell_guid": "b1076dfc-b9ad-4769-8c92-a6c4dae69d19",
    "_uuid": "8f2839f25d086af736a60e9eeb907d3b93b6e0e5",
    "papermill": {
     "duration": 0.013521,
     "end_time": "2022-04-13T21:31:19.808478",
     "exception": false,
     "start_time": "2022-04-13T21:31:19.794957",
     "status": "completed"
    },
    "tags": []
   },
   "source": [
    "Baseline using ConvLSTM + OpenPose"
   ]
  },
  {
   "cell_type": "code",
   "execution_count": 1,
   "id": "e10f391d",
   "metadata": {
    "execution": {
     "iopub.execute_input": "2022-04-13T21:31:19.839954Z",
     "iopub.status.busy": "2022-04-13T21:31:19.838434Z",
     "iopub.status.idle": "2022-04-13T21:31:19.848182Z",
     "shell.execute_reply": "2022-04-13T21:31:19.847624Z",
     "shell.execute_reply.started": "2022-04-13T16:50:23.653419Z"
    },
    "papermill": {
     "duration": 0.0258,
     "end_time": "2022-04-13T21:31:19.848344",
     "exception": false,
     "start_time": "2022-04-13T21:31:19.822544",
     "status": "completed"
    },
    "tags": []
   },
   "outputs": [],
   "source": [
    "# Use output of OpenPose with or without background\n",
    "BACKGROUND = False\n",
    "# Paths to videos for training\n",
    "PATHS = [\"../input/tfginfo-rwf2000/RWF-2000\", f\"../input/tfginfo-openpose-output/openpose_output/openpose_{'' if BACKGROUND else 'no_'}back\"]"
   ]
  },
  {
   "cell_type": "code",
   "execution_count": 2,
   "id": "c8121c3e",
   "metadata": {
    "execution": {
     "iopub.execute_input": "2022-04-13T21:31:19.876673Z",
     "iopub.status.busy": "2022-04-13T21:31:19.876115Z",
     "iopub.status.idle": "2022-04-13T21:31:23.985936Z",
     "shell.execute_reply": "2022-04-13T21:31:23.985464Z",
     "shell.execute_reply.started": "2022-04-13T16:50:23.694657Z"
    },
    "papermill": {
     "duration": 4.125489,
     "end_time": "2022-04-13T21:31:23.986062",
     "exception": false,
     "start_time": "2022-04-13T21:31:19.860573",
     "status": "completed"
    },
    "tags": []
   },
   "outputs": [],
   "source": [
    "import tensorflow as tf"
   ]
  },
  {
   "cell_type": "markdown",
   "id": "bc57873e",
   "metadata": {
    "papermill": {
     "duration": 0.01217,
     "end_time": "2022-04-13T21:31:24.010818",
     "exception": false,
     "start_time": "2022-04-13T21:31:23.998648",
     "status": "completed"
    },
    "tags": []
   },
   "source": [
    "Set seed"
   ]
  },
  {
   "cell_type": "code",
   "execution_count": 3,
   "id": "ef772303",
   "metadata": {
    "execution": {
     "iopub.execute_input": "2022-04-13T21:31:24.040401Z",
     "iopub.status.busy": "2022-04-13T21:31:24.039607Z",
     "iopub.status.idle": "2022-04-13T21:31:24.041579Z",
     "shell.execute_reply": "2022-04-13T21:31:24.041948Z",
     "shell.execute_reply.started": "2022-04-13T16:50:29.025312Z"
    },
    "papermill": {
     "duration": 0.018782,
     "end_time": "2022-04-13T21:31:24.042091",
     "exception": false,
     "start_time": "2022-04-13T21:31:24.023309",
     "status": "completed"
    },
    "tags": []
   },
   "outputs": [],
   "source": [
    "SEED = 0\n",
    "import random\n",
    "import numpy as np\n",
    "random.seed(SEED)\n",
    "np.random.seed(SEED)\n",
    "tf.random.set_seed(SEED)"
   ]
  },
  {
   "cell_type": "markdown",
   "id": "15ad501d",
   "metadata": {
    "papermill": {
     "duration": 0.012378,
     "end_time": "2022-04-13T21:31:24.066792",
     "exception": false,
     "start_time": "2022-04-13T21:31:24.054414",
     "status": "completed"
    },
    "tags": []
   },
   "source": [
    "# Load data"
   ]
  },
  {
   "cell_type": "code",
   "execution_count": 4,
   "id": "8403518f",
   "metadata": {
    "execution": {
     "iopub.execute_input": "2022-04-13T21:31:24.094875Z",
     "iopub.status.busy": "2022-04-13T21:31:24.094217Z",
     "iopub.status.idle": "2022-04-13T21:31:24.400698Z",
     "shell.execute_reply": "2022-04-13T21:31:24.400228Z",
     "shell.execute_reply.started": "2022-04-13T16:50:29.034217Z"
    },
    "papermill": {
     "duration": 0.321811,
     "end_time": "2022-04-13T21:31:24.400829",
     "exception": false,
     "start_time": "2022-04-13T21:31:24.079018",
     "status": "completed"
    },
    "tags": []
   },
   "outputs": [],
   "source": [
    "import numpy as np\n",
    "import cv2"
   ]
  },
  {
   "cell_type": "code",
   "execution_count": 5,
   "id": "3b977437",
   "metadata": {
    "execution": {
     "iopub.execute_input": "2022-04-13T21:31:24.436410Z",
     "iopub.status.busy": "2022-04-13T21:31:24.434112Z",
     "iopub.status.idle": "2022-04-13T21:31:24.438833Z",
     "shell.execute_reply": "2022-04-13T21:31:24.438427Z",
     "shell.execute_reply.started": "2022-04-13T16:50:29.568815Z"
    },
    "papermill": {
     "duration": 0.024507,
     "end_time": "2022-04-13T21:31:24.438938",
     "exception": false,
     "start_time": "2022-04-13T21:31:24.414431",
     "status": "completed"
    },
    "tags": []
   },
   "outputs": [],
   "source": [
    "ORIGINAL_FRAMES_PER_VIDEO = 150\n",
    "FRAMES_PER_VIDEO = 50\n",
    "VIDEO_WIDTH, VIDEO_HEIGHT = 100, 100\n",
    "N_CHANNELS = 3\n",
    "NORM_WIDTH, NORM_HEIGHT = 5, 5\n",
    "\n",
    "\n",
    "def load_videos(video_IDs: list, video_frames: int = FRAMES_PER_VIDEO, video_width: int = VIDEO_WIDTH, video_height: int = VIDEO_HEIGHT,\n",
    "                video_channels: int = N_CHANNELS, dtype = np.float32, normalize: bool = False) -> tuple:\n",
    "    # If frame diff will be computed, load an extra frame for the last one\n",
    "    #if for_diff:\n",
    "    #    video_frames = min(video_frames+1, ORIGINAL_FRAMES_PER_VIDEO)\n",
    "    \n",
    "    videos = np.empty((len(video_IDs), video_frames, video_height, video_width, video_channels), dtype=dtype)\n",
    "    \n",
    "    # Indexes of frames to be kept to comply with video_frames\n",
    "    frames_idx = set(np.round(np.linspace(0, ORIGINAL_FRAMES_PER_VIDEO - 1, video_frames)).astype(int))\n",
    "\n",
    "    for i, video_ID in enumerate(video_IDs):\n",
    "        cap = cv2.VideoCapture(video_ID)\n",
    "        frames = []\n",
    "        index = 0\n",
    "        while True:\n",
    "            ret, frame = cap.read()\n",
    "            if not ret:\n",
    "                break\n",
    "            if index in frames_idx:\n",
    "                frame = cv2.GaussianBlur(frame, (NORM_WIDTH, NORM_HEIGHT), 0)\n",
    "                frame = cv2.resize(frame, (video_width, video_height)).astype(dtype)\n",
    "                if normalize:\n",
    "                    frame /= 255.0\n",
    "                frames.append(frame)\n",
    "            index += 1\n",
    "        cap.release()\n",
    "\n",
    "        videos[i,] = np.array(frames)\n",
    "\n",
    "    return videos"
   ]
  },
  {
   "cell_type": "markdown",
   "id": "1ff2e015",
   "metadata": {
    "papermill": {
     "duration": 0.012125,
     "end_time": "2022-04-13T21:31:24.463603",
     "exception": false,
     "start_time": "2022-04-13T21:31:24.451478",
     "status": "completed"
    },
    "tags": []
   },
   "source": [
    "DataGenerator class to load videos per batch, in case all videos do not fit in memory"
   ]
  },
  {
   "cell_type": "code",
   "execution_count": 6,
   "id": "3c74d264",
   "metadata": {
    "execution": {
     "iopub.execute_input": "2022-04-13T21:31:24.500004Z",
     "iopub.status.busy": "2022-04-13T21:31:24.499357Z",
     "iopub.status.idle": "2022-04-13T21:31:25.451876Z",
     "shell.execute_reply": "2022-04-13T21:31:25.450053Z",
     "shell.execute_reply.started": "2022-04-13T16:50:29.585347Z"
    },
    "papermill": {
     "duration": 0.976131,
     "end_time": "2022-04-13T21:31:25.452013",
     "exception": false,
     "start_time": "2022-04-13T21:31:24.475882",
     "status": "completed"
    },
    "tags": []
   },
   "outputs": [],
   "source": [
    "import gc\n",
    "from tensorflow.keras import backend as K\n",
    "\n",
    "class DataGenerator(tf.keras.utils.Sequence):\n",
    "    def __init__(self, video_IDs: list, video_labels: dict, batch_size: int, paths: list = [''], video_width: int = VIDEO_WIDTH, video_height: int = VIDEO_HEIGHT,\n",
    "                video_frames: int = FRAMES_PER_VIDEO, video_channels: int = N_CHANNELS, dtype = np.float32, normalize: bool = False, shuffle: bool = True):\n",
    "        self.video_IDs = video_IDs\n",
    "        self.video_labels = video_labels\n",
    "        self.batch_size = batch_size\n",
    "        self.paths = paths\n",
    "        self.video_width = video_width\n",
    "        self.video_height = video_height\n",
    "        self.video_frames = video_frames\n",
    "        self.video_channels = video_channels\n",
    "        self.dtype = dtype\n",
    "        self.normalize = normalize\n",
    "        self.shuffle = shuffle\n",
    "\n",
    "    def __len__(self):\n",
    "        return len(self.video_IDs) // self.batch_size\n",
    "\n",
    "    def __getitem__(self, idx):\n",
    "        batch_IDs = self.video_IDs[idx*self.batch_size:(idx+1)*self.batch_size]\n",
    "        input_videos = []\n",
    "        \n",
    "        for index, path in enumerate(self.paths):\n",
    "            batch_IDs_full_path = [path+ID for ID in batch_IDs]\n",
    "\n",
    "            videos = load_videos(batch_IDs_full_path, self.video_frames, self.video_width, \n",
    "                                         self.video_height, self.video_channels, self.dtype, self.normalize)\n",
    "            \n",
    "            input_videos.append(videos)\n",
    "        \n",
    "        labels = np.array([self.video_labels[ID] for ID in batch_IDs])\n",
    "                    \n",
    "        return input_videos, labels\n",
    "            \n",
    "    \n",
    "    def on_epoch_end(self):\n",
    "        'Updates indexes after each epoch'\n",
    "        if self.shuffle:\n",
    "            np.random.shuffle(self.video_IDs)\n",
    "        # Clear memory after epochs\n",
    "        gc.collect()\n",
    "        #K.clear_session()"
   ]
  },
  {
   "cell_type": "markdown",
   "id": "dd62122e",
   "metadata": {
    "papermill": {
     "duration": 0.01267,
     "end_time": "2022-04-13T21:31:25.477844",
     "exception": false,
     "start_time": "2022-04-13T21:31:25.465174",
     "status": "completed"
    },
    "tags": []
   },
   "source": [
    "## Videos to load"
   ]
  },
  {
   "cell_type": "code",
   "execution_count": 7,
   "id": "6e1e5744",
   "metadata": {
    "execution": {
     "iopub.execute_input": "2022-04-13T21:31:25.506932Z",
     "iopub.status.busy": "2022-04-13T21:31:25.506115Z",
     "iopub.status.idle": "2022-04-13T21:31:25.511191Z",
     "shell.execute_reply": "2022-04-13T21:31:25.510791Z",
     "shell.execute_reply.started": "2022-04-13T16:50:30.643133Z"
    },
    "papermill": {
     "duration": 0.020444,
     "end_time": "2022-04-13T21:31:25.511322",
     "exception": false,
     "start_time": "2022-04-13T21:31:25.490878",
     "status": "completed"
    },
    "tags": []
   },
   "outputs": [],
   "source": [
    "def get_slug_from_path(path):\n",
    "    \"\"\"\n",
    "    Function to get slug from path\n",
    "    slug must contain /train or /val because there are repeated names\n",
    "    \"\"\"\n",
    "    # Try train index first\n",
    "    index = path.rfind('/train/')\n",
    "    if index == -1:\n",
    "        index = path.rfind('/val/')\n",
    "    return path[index:]"
   ]
  },
  {
   "cell_type": "code",
   "execution_count": 8,
   "id": "c6c29d92",
   "metadata": {
    "execution": {
     "iopub.execute_input": "2022-04-13T21:31:25.541953Z",
     "iopub.status.busy": "2022-04-13T21:31:25.541394Z",
     "iopub.status.idle": "2022-04-13T21:31:26.502012Z",
     "shell.execute_reply": "2022-04-13T21:31:26.501506Z",
     "shell.execute_reply.started": "2022-04-13T16:50:30.657102Z"
    },
    "papermill": {
     "duration": 0.978347,
     "end_time": "2022-04-13T21:31:26.502142",
     "exception": false,
     "start_time": "2022-04-13T21:31:25.523795",
     "status": "completed"
    },
    "tags": []
   },
   "outputs": [],
   "source": [
    "import glob\n",
    "\n",
    "train_video_IDs = [get_slug_from_path(path) for path in glob.glob(PATHS[0]+'/train/*/*')]\n",
    "test_video_IDs = [get_slug_from_path(path) for path in glob.glob(PATHS[0]+'/val/*/*')]\n",
    "\n",
    "train_video_labels = {video: 0 if 'NonFight' in video else 1 for video in train_video_IDs}\n",
    "test_video_labels = {video: 0 if 'NonFight' in video else 1 for video in test_video_IDs}\n",
    "\n",
    "\n",
    "train_generator = DataGenerator(train_video_IDs, train_video_labels, batch_size=10, paths=PATHS)\n",
    "test_generator = DataGenerator(test_video_IDs, test_video_labels, batch_size=10, paths=PATHS)"
   ]
  },
  {
   "cell_type": "markdown",
   "id": "1df04829",
   "metadata": {
    "papermill": {
     "duration": 0.012258,
     "end_time": "2022-04-13T21:31:26.527845",
     "exception": false,
     "start_time": "2022-04-13T21:31:26.515587",
     "status": "completed"
    },
    "tags": []
   },
   "source": [
    "## Filter initializer"
   ]
  },
  {
   "cell_type": "code",
   "execution_count": 9,
   "id": "5a2404cd",
   "metadata": {
    "execution": {
     "iopub.execute_input": "2022-04-13T21:31:26.559499Z",
     "iopub.status.busy": "2022-04-13T21:31:26.558728Z",
     "iopub.status.idle": "2022-04-13T21:31:26.561327Z",
     "shell.execute_reply": "2022-04-13T21:31:26.560853Z",
     "shell.execute_reply.started": "2022-04-13T16:50:31.581762Z"
    },
    "papermill": {
     "duration": 0.021182,
     "end_time": "2022-04-13T21:31:26.561458",
     "exception": false,
     "start_time": "2022-04-13T21:31:26.540276",
     "status": "completed"
    },
    "tags": []
   },
   "outputs": [],
   "source": [
    "def gauss_kernel(shape, dtype=None):\n",
    "    channels = shape[-2]\n",
    "    kernel_size = shape[0]\n",
    "    ax = tf.range(-kernel_size // 2 + 1.0, kernel_size // 2 + 1.0)\n",
    "    xx, yy = tf.meshgrid(ax, ax)\n",
    "    kernel = tf.exp(-(xx ** 2 + yy ** 2) / (2.0))\n",
    "    kernel = kernel / tf.reduce_sum(kernel)\n",
    "    kernel = tf.tile(kernel[..., tf.newaxis], [1, 1, channels])\n",
    "    kernel = tf.expand_dims(kernel, axis=-1)\n",
    "    return kernel"
   ]
  },
  {
   "cell_type": "markdown",
   "id": "076b2f9e",
   "metadata": {
    "papermill": {
     "duration": 0.012378,
     "end_time": "2022-04-13T21:31:26.586367",
     "exception": false,
     "start_time": "2022-04-13T21:31:26.573989",
     "status": "completed"
    },
    "tags": []
   },
   "source": [
    "# Simple ConvLSTM"
   ]
  },
  {
   "cell_type": "code",
   "execution_count": 10,
   "id": "06008c09",
   "metadata": {
    "execution": {
     "iopub.execute_input": "2022-04-13T21:31:26.621830Z",
     "iopub.status.busy": "2022-04-13T21:31:26.621267Z",
     "iopub.status.idle": "2022-04-13T21:31:29.285529Z",
     "shell.execute_reply": "2022-04-13T21:31:29.285061Z",
     "shell.execute_reply.started": "2022-04-13T16:50:31.594466Z"
    },
    "papermill": {
     "duration": 2.686996,
     "end_time": "2022-04-13T21:31:29.285658",
     "exception": false,
     "start_time": "2022-04-13T21:31:26.598662",
     "status": "completed"
    },
    "tags": []
   },
   "outputs": [
    {
     "name": "stderr",
     "output_type": "stream",
     "text": [
      "2022-04-13 21:31:26.717321: I tensorflow/stream_executor/cuda/cuda_gpu_executor.cc:937] successful NUMA node read from SysFS had negative value (-1), but there must be at least one NUMA node, so returning NUMA node zero\n",
      "2022-04-13 21:31:26.814854: I tensorflow/stream_executor/cuda/cuda_gpu_executor.cc:937] successful NUMA node read from SysFS had negative value (-1), but there must be at least one NUMA node, so returning NUMA node zero\n",
      "2022-04-13 21:31:26.815610: I tensorflow/stream_executor/cuda/cuda_gpu_executor.cc:937] successful NUMA node read from SysFS had negative value (-1), but there must be at least one NUMA node, so returning NUMA node zero\n",
      "2022-04-13 21:31:26.817344: I tensorflow/core/platform/cpu_feature_guard.cc:142] This TensorFlow binary is optimized with oneAPI Deep Neural Network Library (oneDNN) to use the following CPU instructions in performance-critical operations:  AVX2 AVX512F FMA\n",
      "To enable them in other operations, rebuild TensorFlow with the appropriate compiler flags.\n",
      "2022-04-13 21:31:26.818112: I tensorflow/stream_executor/cuda/cuda_gpu_executor.cc:937] successful NUMA node read from SysFS had negative value (-1), but there must be at least one NUMA node, so returning NUMA node zero\n",
      "2022-04-13 21:31:26.818847: I tensorflow/stream_executor/cuda/cuda_gpu_executor.cc:937] successful NUMA node read from SysFS had negative value (-1), but there must be at least one NUMA node, so returning NUMA node zero\n",
      "2022-04-13 21:31:26.819479: I tensorflow/stream_executor/cuda/cuda_gpu_executor.cc:937] successful NUMA node read from SysFS had negative value (-1), but there must be at least one NUMA node, so returning NUMA node zero\n",
      "2022-04-13 21:31:28.702926: I tensorflow/stream_executor/cuda/cuda_gpu_executor.cc:937] successful NUMA node read from SysFS had negative value (-1), but there must be at least one NUMA node, so returning NUMA node zero\n",
      "2022-04-13 21:31:28.703782: I tensorflow/stream_executor/cuda/cuda_gpu_executor.cc:937] successful NUMA node read from SysFS had negative value (-1), but there must be at least one NUMA node, so returning NUMA node zero\n",
      "2022-04-13 21:31:28.704493: I tensorflow/stream_executor/cuda/cuda_gpu_executor.cc:937] successful NUMA node read from SysFS had negative value (-1), but there must be at least one NUMA node, so returning NUMA node zero\n",
      "2022-04-13 21:31:28.705074: I tensorflow/core/common_runtime/gpu/gpu_device.cc:1510] Created device /job:localhost/replica:0/task:0/device:GPU:0 with 15403 MB memory:  -> device: 0, name: Tesla P100-PCIE-16GB, pci bus id: 0000:00:04.0, compute capability: 6.0\n"
     ]
    },
    {
     "name": "stdout",
     "output_type": "stream",
     "text": [
      "Model: \"model\"\n",
      "__________________________________________________________________________________________________\n",
      "Layer (type)                    Output Shape         Param #     Connected to                     \n",
      "==================================================================================================\n",
      "input_1 (InputLayer)            [(None, 50, 100, 100 0                                            \n",
      "__________________________________________________________________________________________________\n",
      "batch_normalization (BatchNorma (None, 50, 100, 100, 12          input_1[0][0]                    \n",
      "__________________________________________________________________________________________________\n",
      "input_2 (InputLayer)            [(None, 50, 100, 100 0                                            \n",
      "__________________________________________________________________________________________________\n",
      "conv_lst_m2d (ConvLSTM2D)       (None, 50, 98, 98, 9 3924        batch_normalization[0][0]        \n",
      "__________________________________________________________________________________________________\n",
      "time_distributed (TimeDistribut (None, 50, 98, 98, 9 252         input_2[0][0]                    \n",
      "__________________________________________________________________________________________________\n",
      "batch_normalization_1 (BatchNor (None, 50, 98, 98, 9 36          conv_lst_m2d[0][0]               \n",
      "__________________________________________________________________________________________________\n",
      "add (Add)                       (None, 50, 98, 98, 9 0           time_distributed[0][0]           \n",
      "                                                                 batch_normalization_1[0][0]      \n",
      "__________________________________________________________________________________________________\n",
      "conv_lst_m2d_1 (ConvLSTM2D)     (None, 96, 96, 32)   47360       add[0][0]                        \n",
      "__________________________________________________________________________________________________\n",
      "global_average_pooling2d (Globa (None, 32)           0           conv_lst_m2d_1[0][0]             \n",
      "__________________________________________________________________________________________________\n",
      "dense (Dense)                   (None, 128)          4224        global_average_pooling2d[0][0]   \n",
      "__________________________________________________________________________________________________\n",
      "dense_1 (Dense)                 (None, 16)           2064        dense[0][0]                      \n",
      "__________________________________________________________________________________________________\n",
      "dense_2 (Dense)                 (None, 1)            17          dense_1[0][0]                    \n",
      "==================================================================================================\n",
      "Total params: 57,889\n",
      "Trainable params: 57,865\n",
      "Non-trainable params: 24\n",
      "__________________________________________________________________________________________________\n"
     ]
    }
   ],
   "source": [
    "inputs_raw = tf.keras.layers.Input(shape=(FRAMES_PER_VIDEO, VIDEO_HEIGHT, VIDEO_WIDTH, N_CHANNELS))\n",
    "inputs_openpose = tf.keras.layers.Input(shape=(FRAMES_PER_VIDEO, VIDEO_HEIGHT, VIDEO_WIDTH, N_CHANNELS))\n",
    "\n",
    "\n",
    "#inputs_openpose_norm = tf.keras.layers.BatchNormalization()(inputs_openpose)\n",
    "\n",
    "convolutional_layer = tf.keras.layers.Conv2D(filters=9, kernel_size=(3,3), activation='tanh')\n",
    "#convolutional_layer = tf.keras.layers.Conv2D(filters=1, kernel_size=(5,5), padding='same', kernel_initializer=gauss_kernel)\n",
    "#convolutional_layer.trainable = False\n",
    "\n",
    "x_openpose_soft = tf.keras.layers.TimeDistributed(convolutional_layer)(inputs_openpose)\n",
    "#inputs_diff_next_norm_gauss = tf.keras.layers.TimeDistributed(convolutional_layer)(inputs_diff_next_norm)\n",
    "#x_openpose_time_info = tf.keras.layers.ConvLSTM2D(filters=6, kernel_size=(3, 3), return_sequences=True, data_format='channels_last', activation='relu')(inputs_openpose)\n",
    "inputs_raw_norm = tf.keras.layers.BatchNormalization()(inputs_raw)\n",
    "x_raw_time_info = tf.keras.layers.ConvLSTM2D(filters=9, kernel_size=(3, 3), return_sequences=True, data_format='channels_last', activation='relu')(inputs_raw_norm)\n",
    "#x_raw_time_info_activated = tf.keras.activations.sigmoid(x_raw_time_info)\n",
    "\n",
    "x_raw_time_info_norm = tf.keras.layers.BatchNormalization()(x_raw_time_info)\n",
    "\n",
    "#x_combined = tf.keras.layers.Multiply()([x_openpose_soft, x_raw_time_info])\n",
    "x_combined = tf.keras.layers.Add()([x_openpose_soft, x_raw_time_info_norm])\n",
    "#x_combined_norm = tf.keras.layers.BatchNormalization()(x_combined)  # TODO: TRY WITH THIS\n",
    "# TODO: try more with more memory!!!\n",
    "x_inputs = tf.keras.layers.ConvLSTM2D(filters=32, kernel_size=(3, 3), return_sequences=False, data_format='channels_last', activation='tanh')(x_combined)\n",
    "#x_diff_map = tf.keras.layers.ConvLSTM2D(filters=10, kernel_size=(3, 3), return_sequences=False, data_format='channels_last', activation='tanh')(inputs_diff_map_normalized)\n",
    "\n",
    "x = tf.keras.layers.GlobalAveragePooling2D(data_format='channels_last')(x_inputs)\n",
    "#x_diff_map_pool = tf.keras.layers.GlobalAveragePooling2D(data_format='channels_last')(x_diff_map)\n",
    "#x = tf.keras.layers.Concatenate()([x_inputs_pool, x_diff_map_pool])\n",
    "\n",
    "#x = tf.keras.layers.ConvLSTM2D(filters=32, kernel_size=(3, 3), return_sequences=False, data_format='channels_last', activation='tanh')(x_combined)\n",
    "\n",
    "#x = tf.keras.layers.GlobalAveragePooling2D(data_format='channels_last')(x)\n",
    "\n",
    "#x = tf.keras.layers.AveragePooling2D(4)(x)\n",
    "#x = tf.keras.layers.Flatten()(x)\n",
    "#x = tf.keras.layers.BatchNormalization()(x)\n",
    "#x = tf.keras.layers.Dense(units=1024, activation='relu')(x)\n",
    "#x = tf.keras.layers.ReLU()(x)  # Avoid possible memory leak\n",
    "x = tf.keras.layers.Dense(units=128, activation='relu')(x)\n",
    "#x = tf.keras.layers.ReLU()(x)\n",
    "x = tf.keras.layers.Dense(units=16, activation='relu')(x)\n",
    "#x = tf.keras.layers.ReLU()(x)\n",
    "outputs = tf.keras.layers.Dense(units=1, activation='sigmoid')(x)\n",
    "\n",
    "model = tf.keras.Model([inputs_raw, inputs_openpose], outputs)\n",
    "model.compile(optimizer='adam',loss='binary_crossentropy', metrics=['accuracy'])\n",
    "\n",
    "model.summary()"
   ]
  },
  {
   "cell_type": "code",
   "execution_count": 11,
   "id": "3110ea50",
   "metadata": {
    "execution": {
     "iopub.execute_input": "2022-04-13T21:31:29.319434Z",
     "iopub.status.busy": "2022-04-13T21:31:29.318865Z",
     "iopub.status.idle": "2022-04-14T01:05:52.949563Z",
     "shell.execute_reply": "2022-04-14T01:05:52.946417Z"
    },
    "papermill": {
     "duration": 12863.650705,
     "end_time": "2022-04-14T01:05:52.950397",
     "exception": false,
     "start_time": "2022-04-13T21:31:29.299692",
     "status": "completed"
    },
    "tags": []
   },
   "outputs": [
    {
     "name": "stderr",
     "output_type": "stream",
     "text": [
      "2022-04-13 21:31:34.696951: I tensorflow/compiler/mlir/mlir_graph_optimization_pass.cc:185] None of the MLIR Optimization Passes are enabled (registered 2)\n"
     ]
    },
    {
     "name": "stdout",
     "output_type": "stream",
     "text": [
      "Epoch 1/10\n"
     ]
    },
    {
     "name": "stderr",
     "output_type": "stream",
     "text": [
      "2022-04-13 21:31:47.227164: I tensorflow/stream_executor/cuda/cuda_dnn.cc:369] Loaded cuDNN version 8005\n"
     ]
    },
    {
     "name": "stdout",
     "output_type": "stream",
     "text": [
      "160/160 [==============================] - 1331s 8s/step - loss: 0.6998 - accuracy: 0.4981 - val_loss: 0.6912 - val_accuracy: 0.5150\n",
      "Epoch 2/10\n",
      "160/160 [==============================] - 1266s 8s/step - loss: 0.6590 - accuracy: 0.6031 - val_loss: 0.5918 - val_accuracy: 0.6900\n",
      "Epoch 3/10\n",
      "160/160 [==============================] - 1265s 8s/step - loss: 0.5953 - accuracy: 0.6756 - val_loss: 0.5575 - val_accuracy: 0.7125\n",
      "Epoch 4/10\n",
      "160/160 [==============================] - 1269s 8s/step - loss: 0.5551 - accuracy: 0.7219 - val_loss: 0.5310 - val_accuracy: 0.7500\n",
      "Epoch 5/10\n",
      "160/160 [==============================] - 1272s 8s/step - loss: 0.5306 - accuracy: 0.7300 - val_loss: 0.5175 - val_accuracy: 0.7500\n",
      "Epoch 6/10\n",
      "160/160 [==============================] - 1272s 8s/step - loss: 0.5200 - accuracy: 0.7556 - val_loss: 0.5015 - val_accuracy: 0.7550\n",
      "Epoch 7/10\n",
      "160/160 [==============================] - 1278s 8s/step - loss: 0.5132 - accuracy: 0.7544 - val_loss: 0.4855 - val_accuracy: 0.7750\n",
      "Epoch 8/10\n",
      "160/160 [==============================] - 1280s 8s/step - loss: 0.4938 - accuracy: 0.7569 - val_loss: 0.4709 - val_accuracy: 0.7650\n",
      "Epoch 9/10\n",
      "160/160 [==============================] - 1278s 8s/step - loss: 0.4835 - accuracy: 0.7806 - val_loss: 0.4672 - val_accuracy: 0.7750\n",
      "Epoch 10/10\n",
      "160/160 [==============================] - 1280s 8s/step - loss: 0.4614 - accuracy: 0.7869 - val_loss: 0.4494 - val_accuracy: 0.7850\n"
     ]
    }
   ],
   "source": [
    "history = model.fit(train_generator, epochs=10, validation_data=test_generator, verbose=1)"
   ]
  },
  {
   "cell_type": "markdown",
   "id": "b438cf23",
   "metadata": {
    "papermill": {
     "duration": 0.425659,
     "end_time": "2022-04-14T01:05:53.805661",
     "exception": false,
     "start_time": "2022-04-14T01:05:53.380002",
     "status": "completed"
    },
    "tags": []
   },
   "source": [
    "# Model performance"
   ]
  },
  {
   "cell_type": "code",
   "execution_count": 12,
   "id": "3ea76e39",
   "metadata": {
    "execution": {
     "iopub.execute_input": "2022-04-14T01:05:54.671408Z",
     "iopub.status.busy": "2022-04-14T01:05:54.670567Z",
     "iopub.status.idle": "2022-04-14T01:05:55.109246Z",
     "shell.execute_reply": "2022-04-14T01:05:55.108796Z"
    },
    "papermill": {
     "duration": 0.87986,
     "end_time": "2022-04-14T01:05:55.109405",
     "exception": false,
     "start_time": "2022-04-14T01:05:54.229545",
     "status": "completed"
    },
    "tags": []
   },
   "outputs": [
    {
     "data": {
      "image/png": "[encoded data removed]",
      "text/plain": [
       "<Figure size 432x288 with 1 Axes>"
      ]
     },
     "metadata": {
      "needs_background": "light"
     },
     "output_type": "display_data"
    },
    {
     "data": {
      "image/png": "[encoded data removed]",
      "text/plain": [
       "<Figure size 432x288 with 1 Axes>"
      ]
     },
     "metadata": {
      "needs_background": "light"
     },
     "output_type": "display_data"
    }
   ],
   "source": [
    "import matplotlib.pyplot as plt\n",
    "# summarize history for accuracy\n",
    "plt.plot(history.history['accuracy'])\n",
    "plt.plot(history.history['val_accuracy'])\n",
    "plt.title(f\"openpose_{'' if BACKGROUND else 'no_'}back + raw model accuracy\")\n",
    "plt.ylabel('accuracy')\n",
    "plt.xlabel('epoch')\n",
    "plt.legend(['train', 'test'], loc='upper left')\n",
    "plt.show()\n",
    "# summarize history for loss\n",
    "plt.plot(history.history['loss'])\n",
    "plt.plot(history.history['val_loss'])\n",
    "plt.title(f\"openpose_{'' if BACKGROUND else 'no_'}back + raw model loss\")\n",
    "plt.ylabel('loss')\n",
    "plt.xlabel('epoch')\n",
    "plt.legend(['train', 'test'], loc='upper left')\n",
    "plt.show()"
   ]
  },
  {
   "cell_type": "code",
   "execution_count": null,
   "id": "b167934a",
   "metadata": {
    "papermill": {
     "duration": 0.42582,
     "end_time": "2022-04-14T01:05:55.963259",
     "exception": false,
     "start_time": "2022-04-14T01:05:55.537439",
     "status": "completed"
    },
    "tags": []
   },
   "outputs": [],
   "source": []
  }
 ],
 "metadata": {
  "kernelspec": {
   "display_name": "Python 3",
   "language": "python",
   "name": "python3"
  },
  "language_info": {
   "codemirror_mode": {
    "name": "ipython",
    "version": 3
   },
   "file_extension": ".py",
   "mimetype": "text/x-python",
   "name": "python",
   "nbconvert_exporter": "python",
   "pygments_lexer": "ipython3",
   "version": "3.7.12"
  },
  "papermill": {
   "default_parameters": {},
   "duration": 12887.552637,
   "end_time": "2022-04-14T01:05:59.282009",
   "environment_variables": {},
   "exception": null,
   "input_path": "__notebook__.ipynb",
   "output_path": "__notebook__.ipynb",
   "parameters": {},
   "start_time": "2022-04-13T21:31:11.729372",
   "version": "2.3.3"
  }
 },
 "nbformat": 4,
 "nbformat_minor": 5
}
